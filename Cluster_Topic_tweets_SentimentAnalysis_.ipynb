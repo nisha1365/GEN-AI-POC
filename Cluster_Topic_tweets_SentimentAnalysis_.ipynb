{
  "nbformat": 4,
  "nbformat_minor": 0,
  "metadata": {
    "colab": {
      "provenance": [],
      "include_colab_link": true
    },
    "kernelspec": {
      "name": "python3",
      "display_name": "Python 3"
    },
    "language_info": {
      "name": "python"
    },
    "widgets": {
      "application/vnd.jupyter.widget-state+json": {
        "04aa3a4f07e7484cb455cad1b05067cd": {
          "model_module": "@jupyter-widgets/controls",
          "model_name": "DropdownModel",
          "model_module_version": "1.5.0",
          "state": {
            "_dom_classes": [],
            "_model_module": "@jupyter-widgets/controls",
            "_model_module_version": "1.5.0",
            "_model_name": "DropdownModel",
            "_options_labels": [
              "Vaccine Concerns",
              "Maternal and Child Health",
              "Pediatric COVID-19 Vaccination",
              "Pediatric Health Research",
              "Tetanus Prevention",
              "Child Vaccination and Safety",
              "Diphtheria Prevention",
              " Health Investigations",
              "Vaccination and Immunization"
            ],
            "_view_count": null,
            "_view_module": "@jupyter-widgets/controls",
            "_view_module_version": "1.5.0",
            "_view_name": "DropdownView",
            "description": "Select Cluster",
            "description_tooltip": null,
            "disabled": false,
            "index": 4,
            "layout": "IPY_MODEL_07a53c1aaad1476990ecfd0d0998f96e",
            "style": "IPY_MODEL_808f77b9f7cb416eb3c46b79f4efe4ec"
          }
        },
        "07a53c1aaad1476990ecfd0d0998f96e": {
          "model_module": "@jupyter-widgets/base",
          "model_name": "LayoutModel",
          "model_module_version": "1.2.0",
          "state": {
            "_model_module": "@jupyter-widgets/base",
            "_model_module_version": "1.2.0",
            "_model_name": "LayoutModel",
            "_view_count": null,
            "_view_module": "@jupyter-widgets/base",
            "_view_module_version": "1.2.0",
            "_view_name": "LayoutView",
            "align_content": null,
            "align_items": null,
            "align_self": null,
            "border": null,
            "bottom": null,
            "display": null,
            "flex": null,
            "flex_flow": null,
            "grid_area": null,
            "grid_auto_columns": null,
            "grid_auto_flow": null,
            "grid_auto_rows": null,
            "grid_column": null,
            "grid_gap": null,
            "grid_row": null,
            "grid_template_areas": null,
            "grid_template_columns": null,
            "grid_template_rows": null,
            "height": null,
            "justify_content": null,
            "justify_items": null,
            "left": null,
            "margin": null,
            "max_height": null,
            "max_width": null,
            "min_height": null,
            "min_width": null,
            "object_fit": null,
            "object_position": null,
            "order": null,
            "overflow": null,
            "overflow_x": null,
            "overflow_y": null,
            "padding": null,
            "right": null,
            "top": null,
            "visibility": null,
            "width": null
          }
        },
        "808f77b9f7cb416eb3c46b79f4efe4ec": {
          "model_module": "@jupyter-widgets/controls",
          "model_name": "DescriptionStyleModel",
          "model_module_version": "1.5.0",
          "state": {
            "_model_module": "@jupyter-widgets/controls",
            "_model_module_version": "1.5.0",
            "_model_name": "DescriptionStyleModel",
            "_view_count": null,
            "_view_module": "@jupyter-widgets/base",
            "_view_module_version": "1.2.0",
            "_view_name": "StyleView",
            "description_width": ""
          }
        },
        "64f9d11ff73d44a8a9643f9edc325f54": {
          "model_module": "@jupyter-widgets/controls",
          "model_name": "DropdownModel",
          "model_module_version": "1.5.0",
          "state": {
            "_dom_classes": [],
            "_model_module": "@jupyter-widgets/controls",
            "_model_module_version": "1.5.0",
            "_model_name": "DropdownModel",
            "_options_labels": [
              "Tetanus Vaccination",
              "Tetanus from Rusty Nails",
              "Vaccines for Rabies and Tetanus",
              "Tetanus Infection",
              "Tetanus Vaccination and Cybertruck"
            ],
            "_view_count": null,
            "_view_module": "@jupyter-widgets/controls",
            "_view_module_version": "1.5.0",
            "_view_name": "DropdownView",
            "description": "Select Topic",
            "description_tooltip": null,
            "disabled": false,
            "index": 4,
            "layout": "IPY_MODEL_ebbe3d8ce6ac42f1bd306a70b7079093",
            "style": "IPY_MODEL_526a94e1d85f4443a2efae1ae01dae34"
          }
        },
        "ebbe3d8ce6ac42f1bd306a70b7079093": {
          "model_module": "@jupyter-widgets/base",
          "model_name": "LayoutModel",
          "model_module_version": "1.2.0",
          "state": {
            "_model_module": "@jupyter-widgets/base",
            "_model_module_version": "1.2.0",
            "_model_name": "LayoutModel",
            "_view_count": null,
            "_view_module": "@jupyter-widgets/base",
            "_view_module_version": "1.2.0",
            "_view_name": "LayoutView",
            "align_content": null,
            "align_items": null,
            "align_self": null,
            "border": null,
            "bottom": null,
            "display": null,
            "flex": null,
            "flex_flow": null,
            "grid_area": null,
            "grid_auto_columns": null,
            "grid_auto_flow": null,
            "grid_auto_rows": null,
            "grid_column": null,
            "grid_gap": null,
            "grid_row": null,
            "grid_template_areas": null,
            "grid_template_columns": null,
            "grid_template_rows": null,
            "height": null,
            "justify_content": null,
            "justify_items": null,
            "left": null,
            "margin": null,
            "max_height": null,
            "max_width": null,
            "min_height": null,
            "min_width": null,
            "object_fit": null,
            "object_position": null,
            "order": null,
            "overflow": null,
            "overflow_x": null,
            "overflow_y": null,
            "padding": null,
            "right": null,
            "top": null,
            "visibility": null,
            "width": null
          }
        },
        "526a94e1d85f4443a2efae1ae01dae34": {
          "model_module": "@jupyter-widgets/controls",
          "model_name": "DescriptionStyleModel",
          "model_module_version": "1.5.0",
          "state": {
            "_model_module": "@jupyter-widgets/controls",
            "_model_module_version": "1.5.0",
            "_model_name": "DescriptionStyleModel",
            "_view_count": null,
            "_view_module": "@jupyter-widgets/base",
            "_view_module_version": "1.2.0",
            "_view_name": "StyleView",
            "description_width": ""
          }
        },
        "0de38e4feba945ef83363d0094ecc773": {
          "model_module": "@jupyter-widgets/controls",
          "model_name": "ButtonModel",
          "model_module_version": "1.5.0",
          "state": {
            "_dom_classes": [],
            "_model_module": "@jupyter-widgets/controls",
            "_model_module_version": "1.5.0",
            "_model_name": "ButtonModel",
            "_view_count": null,
            "_view_module": "@jupyter-widgets/controls",
            "_view_module_version": "1.5.0",
            "_view_name": "ButtonView",
            "button_style": "",
            "description": "Submit",
            "disabled": false,
            "icon": "",
            "layout": "IPY_MODEL_81769a883e6143b49588592bb39fcae5",
            "style": "IPY_MODEL_1b835fd30f93451eb8eba602aaa761d2",
            "tooltip": ""
          }
        },
        "81769a883e6143b49588592bb39fcae5": {
          "model_module": "@jupyter-widgets/base",
          "model_name": "LayoutModel",
          "model_module_version": "1.2.0",
          "state": {
            "_model_module": "@jupyter-widgets/base",
            "_model_module_version": "1.2.0",
            "_model_name": "LayoutModel",
            "_view_count": null,
            "_view_module": "@jupyter-widgets/base",
            "_view_module_version": "1.2.0",
            "_view_name": "LayoutView",
            "align_content": null,
            "align_items": null,
            "align_self": null,
            "border": null,
            "bottom": null,
            "display": null,
            "flex": null,
            "flex_flow": null,
            "grid_area": null,
            "grid_auto_columns": null,
            "grid_auto_flow": null,
            "grid_auto_rows": null,
            "grid_column": null,
            "grid_gap": null,
            "grid_row": null,
            "grid_template_areas": null,
            "grid_template_columns": null,
            "grid_template_rows": null,
            "height": null,
            "justify_content": null,
            "justify_items": null,
            "left": null,
            "margin": null,
            "max_height": null,
            "max_width": null,
            "min_height": null,
            "min_width": null,
            "object_fit": null,
            "object_position": null,
            "order": null,
            "overflow": null,
            "overflow_x": null,
            "overflow_y": null,
            "padding": null,
            "right": null,
            "top": null,
            "visibility": null,
            "width": null
          }
        },
        "1b835fd30f93451eb8eba602aaa761d2": {
          "model_module": "@jupyter-widgets/controls",
          "model_name": "ButtonStyleModel",
          "model_module_version": "1.5.0",
          "state": {
            "_model_module": "@jupyter-widgets/controls",
            "_model_module_version": "1.5.0",
            "_model_name": "ButtonStyleModel",
            "_view_count": null,
            "_view_module": "@jupyter-widgets/base",
            "_view_module_version": "1.2.0",
            "_view_name": "StyleView",
            "button_color": null,
            "font_weight": ""
          }
        },
        "05fe0001e932411c9201ac102b0776c0": {
          "model_module": "@jupyter-widgets/output",
          "model_name": "OutputModel",
          "model_module_version": "1.0.0",
          "state": {
            "_dom_classes": [],
            "_model_module": "@jupyter-widgets/output",
            "_model_module_version": "1.0.0",
            "_model_name": "OutputModel",
            "_view_count": null,
            "_view_module": "@jupyter-widgets/output",
            "_view_module_version": "1.0.0",
            "_view_name": "OutputView",
            "layout": "IPY_MODEL_0569c8f32710421694b6658c7a9f7f23",
            "msg_id": "",
            "outputs": [
              {
                "output_type": "display_data",
                "data": {
                  "text/plain": "<Figure size 1000x600 with 1 Axes>",
                  "image/png": "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\n"
                },
                "metadata": {}
              }
            ]
          }
        },
        "0569c8f32710421694b6658c7a9f7f23": {
          "model_module": "@jupyter-widgets/base",
          "model_name": "LayoutModel",
          "model_module_version": "1.2.0",
          "state": {
            "_model_module": "@jupyter-widgets/base",
            "_model_module_version": "1.2.0",
            "_model_name": "LayoutModel",
            "_view_count": null,
            "_view_module": "@jupyter-widgets/base",
            "_view_module_version": "1.2.0",
            "_view_name": "LayoutView",
            "align_content": null,
            "align_items": null,
            "align_self": null,
            "border": null,
            "bottom": null,
            "display": null,
            "flex": null,
            "flex_flow": null,
            "grid_area": null,
            "grid_auto_columns": null,
            "grid_auto_flow": null,
            "grid_auto_rows": null,
            "grid_column": null,
            "grid_gap": null,
            "grid_row": null,
            "grid_template_areas": null,
            "grid_template_columns": null,
            "grid_template_rows": null,
            "height": null,
            "justify_content": null,
            "justify_items": null,
            "left": null,
            "margin": null,
            "max_height": null,
            "max_width": null,
            "min_height": null,
            "min_width": null,
            "object_fit": null,
            "object_position": null,
            "order": null,
            "overflow": null,
            "overflow_x": null,
            "overflow_y": null,
            "padding": null,
            "right": null,
            "top": null,
            "visibility": null,
            "width": null
          }
        }
      }
    }
  },
  "cells": [
    {
      "cell_type": "markdown",
      "metadata": {
        "id": "view-in-github",
        "colab_type": "text"
      },
      "source": [
        "<a href=\"https://colab.research.google.com/github/nisha1365/GEN-AI-POC/blob/main/Cluster_Topic_tweets_SentimentAnalysis_.ipynb\" target=\"_parent\"><img src=\"https://colab.research.google.com/assets/colab-badge.svg\" alt=\"Open In Colab\"/></a>"
      ]
    },
    {
      "cell_type": "code",
      "source": [
        "!pip install xlsxwriter"
      ],
      "metadata": {
        "id": "G2p7lgIG419t",
        "colab": {
          "base_uri": "https://localhost:8080/"
        },
        "outputId": "5713d397-6e40-4297-86fc-f8191553219e"
      },
      "execution_count": 1,
      "outputs": [
        {
          "output_type": "stream",
          "name": "stdout",
          "text": [
            "Collecting xlsxwriter\n",
            "  Downloading XlsxWriter-3.2.0-py3-none-any.whl (159 kB)\n",
            "\u001b[?25l     \u001b[90m━━━━━━━━━━━━━━━━━━━━━━━━━━━━━━━━━━━━━━━━\u001b[0m \u001b[32m0.0/159.9 kB\u001b[0m \u001b[31m?\u001b[0m eta \u001b[36m-:--:--\u001b[0m\r\u001b[2K     \u001b[91m━━━━━━━━━━━━━━━━━━━━━━━━━━━━━━━━━━━━━━\u001b[0m\u001b[90m╺\u001b[0m\u001b[90m━\u001b[0m \u001b[32m153.6/159.9 kB\u001b[0m \u001b[31m4.8 MB/s\u001b[0m eta \u001b[36m0:00:01\u001b[0m\r\u001b[2K     \u001b[90m━━━━━━━━━━━━━━━━━━━━━━━━━━━━━━━━━━━━━━━━\u001b[0m \u001b[32m159.9/159.9 kB\u001b[0m \u001b[31m4.1 MB/s\u001b[0m eta \u001b[36m0:00:00\u001b[0m\n",
            "\u001b[?25hInstalling collected packages: xlsxwriter\n",
            "Successfully installed xlsxwriter-3.2.0\n"
          ]
        }
      ]
    },
    {
      "cell_type": "code",
      "source": [
        "!pip install vaderSentiment"
      ],
      "metadata": {
        "id": "JjNOleMLLbYJ",
        "colab": {
          "base_uri": "https://localhost:8080/"
        },
        "outputId": "dad2e437-b294-4f71-a031-7f3a9a554704"
      },
      "execution_count": 2,
      "outputs": [
        {
          "output_type": "stream",
          "name": "stdout",
          "text": [
            "Collecting vaderSentiment\n",
            "  Downloading vaderSentiment-3.3.2-py2.py3-none-any.whl (125 kB)\n",
            "\u001b[?25l     \u001b[90m━━━━━━━━━━━━━━━━━━━━━━━━━━━━━━━━━━━━━━━━\u001b[0m \u001b[32m0.0/126.0 kB\u001b[0m \u001b[31m?\u001b[0m eta \u001b[36m-:--:--\u001b[0m\r\u001b[2K     \u001b[91m━━━━━━━━━━━━━\u001b[0m\u001b[90m╺\u001b[0m\u001b[90m━━━━━━━━━━━━━━━━━━━━━━━━━━\u001b[0m \u001b[32m41.0/126.0 kB\u001b[0m \u001b[31m1.2 MB/s\u001b[0m eta \u001b[36m0:00:01\u001b[0m\r\u001b[2K     \u001b[90m━━━━━━━━━━━━━━━━━━━━━━━━━━━━━━━━━━━━━━━━\u001b[0m \u001b[32m126.0/126.0 kB\u001b[0m \u001b[31m1.9 MB/s\u001b[0m eta \u001b[36m0:00:00\u001b[0m\n",
            "\u001b[?25hRequirement already satisfied: requests in /usr/local/lib/python3.10/dist-packages (from vaderSentiment) (2.31.0)\n",
            "Requirement already satisfied: charset-normalizer<4,>=2 in /usr/local/lib/python3.10/dist-packages (from requests->vaderSentiment) (3.3.2)\n",
            "Requirement already satisfied: idna<4,>=2.5 in /usr/local/lib/python3.10/dist-packages (from requests->vaderSentiment) (3.6)\n",
            "Requirement already satisfied: urllib3<3,>=1.21.1 in /usr/local/lib/python3.10/dist-packages (from requests->vaderSentiment) (2.0.7)\n",
            "Requirement already satisfied: certifi>=2017.4.17 in /usr/local/lib/python3.10/dist-packages (from requests->vaderSentiment) (2024.2.2)\n",
            "Installing collected packages: vaderSentiment\n",
            "Successfully installed vaderSentiment-3.3.2\n"
          ]
        }
      ]
    },
    {
      "cell_type": "code",
      "source": [
        "!pip install gradio"
      ],
      "metadata": {
        "id": "ax4TnprkLnst",
        "colab": {
          "base_uri": "https://localhost:8080/"
        },
        "outputId": "4221f7c6-aa32-41e7-c7b6-a6da783f203b"
      },
      "execution_count": 3,
      "outputs": [
        {
          "output_type": "stream",
          "name": "stdout",
          "text": [
            "Collecting gradio\n",
            "  Downloading gradio-4.19.2-py3-none-any.whl (16.9 MB)\n",
            "\u001b[2K     \u001b[90m━━━━━━━━━━━━━━━━━━━━━━━━━━━━━━━━━━━━━━━━\u001b[0m \u001b[32m16.9/16.9 MB\u001b[0m \u001b[31m42.6 MB/s\u001b[0m eta \u001b[36m0:00:00\u001b[0m\n",
            "\u001b[?25hCollecting aiofiles<24.0,>=22.0 (from gradio)\n",
            "  Downloading aiofiles-23.2.1-py3-none-any.whl (15 kB)\n",
            "Requirement already satisfied: altair<6.0,>=4.2.0 in /usr/local/lib/python3.10/dist-packages (from gradio) (4.2.2)\n",
            "Collecting fastapi (from gradio)\n",
            "  Downloading fastapi-0.110.0-py3-none-any.whl (92 kB)\n",
            "\u001b[2K     \u001b[90m━━━━━━━━━━━━━━━━━━━━━━━━━━━━━━━━━━━━━━━━\u001b[0m \u001b[32m92.1/92.1 kB\u001b[0m \u001b[31m11.0 MB/s\u001b[0m eta \u001b[36m0:00:00\u001b[0m\n",
            "\u001b[?25hCollecting ffmpy (from gradio)\n",
            "  Downloading ffmpy-0.3.2.tar.gz (5.5 kB)\n",
            "  Preparing metadata (setup.py) ... \u001b[?25l\u001b[?25hdone\n",
            "Collecting gradio-client==0.10.1 (from gradio)\n",
            "  Downloading gradio_client-0.10.1-py3-none-any.whl (307 kB)\n",
            "\u001b[2K     \u001b[90m━━━━━━━━━━━━━━━━━━━━━━━━━━━━━━━━━━━━━━━━\u001b[0m \u001b[32m307.9/307.9 kB\u001b[0m \u001b[31m33.8 MB/s\u001b[0m eta \u001b[36m0:00:00\u001b[0m\n",
            "\u001b[?25hCollecting httpx>=0.24.1 (from gradio)\n",
            "  Downloading httpx-0.27.0-py3-none-any.whl (75 kB)\n",
            "\u001b[2K     \u001b[90m━━━━━━━━━━━━━━━━━━━━━━━━━━━━━━━━━━━━━━━━\u001b[0m \u001b[32m75.6/75.6 kB\u001b[0m \u001b[31m11.0 MB/s\u001b[0m eta \u001b[36m0:00:00\u001b[0m\n",
            "\u001b[?25hRequirement already satisfied: huggingface-hub>=0.19.3 in /usr/local/lib/python3.10/dist-packages (from gradio) (0.20.3)\n",
            "Requirement already satisfied: importlib-resources<7.0,>=1.3 in /usr/local/lib/python3.10/dist-packages (from gradio) (6.1.1)\n",
            "Requirement already satisfied: jinja2<4.0 in /usr/local/lib/python3.10/dist-packages (from gradio) (3.1.3)\n",
            "Requirement already satisfied: markupsafe~=2.0 in /usr/local/lib/python3.10/dist-packages (from gradio) (2.1.5)\n",
            "Requirement already satisfied: matplotlib~=3.0 in /usr/local/lib/python3.10/dist-packages (from gradio) (3.7.1)\n",
            "Requirement already satisfied: numpy~=1.0 in /usr/local/lib/python3.10/dist-packages (from gradio) (1.25.2)\n",
            "Collecting orjson~=3.0 (from gradio)\n",
            "  Downloading orjson-3.9.15-cp310-cp310-manylinux_2_17_x86_64.manylinux2014_x86_64.whl (138 kB)\n",
            "\u001b[2K     \u001b[90m━━━━━━━━━━━━━━━━━━━━━━━━━━━━━━━━━━━━━━━━\u001b[0m \u001b[32m138.5/138.5 kB\u001b[0m \u001b[31m14.7 MB/s\u001b[0m eta \u001b[36m0:00:00\u001b[0m\n",
            "\u001b[?25hRequirement already satisfied: packaging in /usr/local/lib/python3.10/dist-packages (from gradio) (23.2)\n",
            "Requirement already satisfied: pandas<3.0,>=1.0 in /usr/local/lib/python3.10/dist-packages (from gradio) (1.5.3)\n",
            "Requirement already satisfied: pillow<11.0,>=8.0 in /usr/local/lib/python3.10/dist-packages (from gradio) (9.4.0)\n",
            "Requirement already satisfied: pydantic>=2.0 in /usr/local/lib/python3.10/dist-packages (from gradio) (2.6.1)\n",
            "Collecting pydub (from gradio)\n",
            "  Downloading pydub-0.25.1-py2.py3-none-any.whl (32 kB)\n",
            "Collecting python-multipart>=0.0.9 (from gradio)\n",
            "  Downloading python_multipart-0.0.9-py3-none-any.whl (22 kB)\n",
            "Requirement already satisfied: pyyaml<7.0,>=5.0 in /usr/local/lib/python3.10/dist-packages (from gradio) (6.0.1)\n",
            "Collecting ruff>=0.2.2 (from gradio)\n",
            "  Downloading ruff-0.2.2-py3-none-manylinux_2_17_x86_64.manylinux2014_x86_64.whl (7.8 MB)\n",
            "\u001b[2K     \u001b[90m━━━━━━━━━━━━━━━━━━━━━━━━━━━━━━━━━━━━━━━━\u001b[0m \u001b[32m7.8/7.8 MB\u001b[0m \u001b[31m88.9 MB/s\u001b[0m eta \u001b[36m0:00:00\u001b[0m\n",
            "\u001b[?25hCollecting semantic-version~=2.0 (from gradio)\n",
            "  Downloading semantic_version-2.10.0-py2.py3-none-any.whl (15 kB)\n",
            "Collecting tomlkit==0.12.0 (from gradio)\n",
            "  Downloading tomlkit-0.12.0-py3-none-any.whl (37 kB)\n",
            "Requirement already satisfied: typer[all]<1.0,>=0.9 in /usr/local/lib/python3.10/dist-packages (from gradio) (0.9.0)\n",
            "Requirement already satisfied: typing-extensions~=4.0 in /usr/local/lib/python3.10/dist-packages (from gradio) (4.9.0)\n",
            "Collecting uvicorn>=0.14.0 (from gradio)\n",
            "  Downloading uvicorn-0.27.1-py3-none-any.whl (60 kB)\n",
            "\u001b[2K     \u001b[90m━━━━━━━━━━━━━━━━━━━━━━━━━━━━━━━━━━━━━━━━\u001b[0m \u001b[32m60.8/60.8 kB\u001b[0m \u001b[31m8.7 MB/s\u001b[0m eta \u001b[36m0:00:00\u001b[0m\n",
            "\u001b[?25hRequirement already satisfied: fsspec in /usr/local/lib/python3.10/dist-packages (from gradio-client==0.10.1->gradio) (2023.6.0)\n",
            "Collecting websockets<12.0,>=10.0 (from gradio-client==0.10.1->gradio)\n",
            "  Downloading websockets-11.0.3-cp310-cp310-manylinux_2_5_x86_64.manylinux1_x86_64.manylinux_2_17_x86_64.manylinux2014_x86_64.whl (129 kB)\n",
            "\u001b[2K     \u001b[90m━━━━━━━━━━━━━━━━━━━━━━━━━━━━━━━━━━━━━━━━\u001b[0m \u001b[32m129.9/129.9 kB\u001b[0m \u001b[31m15.4 MB/s\u001b[0m eta \u001b[36m0:00:00\u001b[0m\n",
            "\u001b[?25hRequirement already satisfied: entrypoints in /usr/local/lib/python3.10/dist-packages (from altair<6.0,>=4.2.0->gradio) (0.4)\n",
            "Requirement already satisfied: jsonschema>=3.0 in /usr/local/lib/python3.10/dist-packages (from altair<6.0,>=4.2.0->gradio) (4.19.2)\n",
            "Requirement already satisfied: toolz in /usr/local/lib/python3.10/dist-packages (from altair<6.0,>=4.2.0->gradio) (0.12.1)\n",
            "Requirement already satisfied: anyio in /usr/local/lib/python3.10/dist-packages (from httpx>=0.24.1->gradio) (3.7.1)\n",
            "Requirement already satisfied: certifi in /usr/local/lib/python3.10/dist-packages (from httpx>=0.24.1->gradio) (2024.2.2)\n",
            "Collecting httpcore==1.* (from httpx>=0.24.1->gradio)\n",
            "  Downloading httpcore-1.0.4-py3-none-any.whl (77 kB)\n",
            "\u001b[2K     \u001b[90m━━━━━━━━━━━━━━━━━━━━━━━━━━━━━━━━━━━━━━━━\u001b[0m \u001b[32m77.8/77.8 kB\u001b[0m \u001b[31m9.6 MB/s\u001b[0m eta \u001b[36m0:00:00\u001b[0m\n",
            "\u001b[?25hRequirement already satisfied: idna in /usr/local/lib/python3.10/dist-packages (from httpx>=0.24.1->gradio) (3.6)\n",
            "Requirement already satisfied: sniffio in /usr/local/lib/python3.10/dist-packages (from httpx>=0.24.1->gradio) (1.3.0)\n",
            "Collecting h11<0.15,>=0.13 (from httpcore==1.*->httpx>=0.24.1->gradio)\n",
            "  Downloading h11-0.14.0-py3-none-any.whl (58 kB)\n",
            "\u001b[2K     \u001b[90m━━━━━━━━━━━━━━━━━━━━━━━━━━━━━━━━━━━━━━━━\u001b[0m \u001b[32m58.3/58.3 kB\u001b[0m \u001b[31m7.1 MB/s\u001b[0m eta \u001b[36m0:00:00\u001b[0m\n",
            "\u001b[?25hRequirement already satisfied: filelock in /usr/local/lib/python3.10/dist-packages (from huggingface-hub>=0.19.3->gradio) (3.13.1)\n",
            "Requirement already satisfied: requests in /usr/local/lib/python3.10/dist-packages (from huggingface-hub>=0.19.3->gradio) (2.31.0)\n",
            "Requirement already satisfied: tqdm>=4.42.1 in /usr/local/lib/python3.10/dist-packages (from huggingface-hub>=0.19.3->gradio) (4.66.2)\n",
            "Requirement already satisfied: contourpy>=1.0.1 in /usr/local/lib/python3.10/dist-packages (from matplotlib~=3.0->gradio) (1.2.0)\n",
            "Requirement already satisfied: cycler>=0.10 in /usr/local/lib/python3.10/dist-packages (from matplotlib~=3.0->gradio) (0.12.1)\n",
            "Requirement already satisfied: fonttools>=4.22.0 in /usr/local/lib/python3.10/dist-packages (from matplotlib~=3.0->gradio) (4.49.0)\n",
            "Requirement already satisfied: kiwisolver>=1.0.1 in /usr/local/lib/python3.10/dist-packages (from matplotlib~=3.0->gradio) (1.4.5)\n",
            "Requirement already satisfied: pyparsing>=2.3.1 in /usr/local/lib/python3.10/dist-packages (from matplotlib~=3.0->gradio) (3.1.1)\n",
            "Requirement already satisfied: python-dateutil>=2.7 in /usr/local/lib/python3.10/dist-packages (from matplotlib~=3.0->gradio) (2.8.2)\n",
            "Requirement already satisfied: pytz>=2020.1 in /usr/local/lib/python3.10/dist-packages (from pandas<3.0,>=1.0->gradio) (2023.4)\n",
            "Requirement already satisfied: annotated-types>=0.4.0 in /usr/local/lib/python3.10/dist-packages (from pydantic>=2.0->gradio) (0.6.0)\n",
            "Requirement already satisfied: pydantic-core==2.16.2 in /usr/local/lib/python3.10/dist-packages (from pydantic>=2.0->gradio) (2.16.2)\n",
            "Requirement already satisfied: click<9.0.0,>=7.1.1 in /usr/local/lib/python3.10/dist-packages (from typer[all]<1.0,>=0.9->gradio) (8.1.7)\n",
            "Collecting colorama<0.5.0,>=0.4.3 (from typer[all]<1.0,>=0.9->gradio)\n",
            "  Downloading colorama-0.4.6-py2.py3-none-any.whl (25 kB)\n",
            "Collecting shellingham<2.0.0,>=1.3.0 (from typer[all]<1.0,>=0.9->gradio)\n",
            "  Downloading shellingham-1.5.4-py2.py3-none-any.whl (9.8 kB)\n",
            "Requirement already satisfied: rich<14.0.0,>=10.11.0 in /usr/local/lib/python3.10/dist-packages (from typer[all]<1.0,>=0.9->gradio) (13.7.0)\n",
            "Collecting starlette<0.37.0,>=0.36.3 (from fastapi->gradio)\n",
            "  Downloading starlette-0.36.3-py3-none-any.whl (71 kB)\n",
            "\u001b[2K     \u001b[90m━━━━━━━━━━━━━━━━━━━━━━━━━━━━━━━━━━━━━━━━\u001b[0m \u001b[32m71.5/71.5 kB\u001b[0m \u001b[31m7.3 MB/s\u001b[0m eta \u001b[36m0:00:00\u001b[0m\n",
            "\u001b[?25hRequirement already satisfied: attrs>=22.2.0 in /usr/local/lib/python3.10/dist-packages (from jsonschema>=3.0->altair<6.0,>=4.2.0->gradio) (23.2.0)\n",
            "Requirement already satisfied: jsonschema-specifications>=2023.03.6 in /usr/local/lib/python3.10/dist-packages (from jsonschema>=3.0->altair<6.0,>=4.2.0->gradio) (2023.12.1)\n",
            "Requirement already satisfied: referencing>=0.28.4 in /usr/local/lib/python3.10/dist-packages (from jsonschema>=3.0->altair<6.0,>=4.2.0->gradio) (0.33.0)\n",
            "Requirement already satisfied: rpds-py>=0.7.1 in /usr/local/lib/python3.10/dist-packages (from jsonschema>=3.0->altair<6.0,>=4.2.0->gradio) (0.18.0)\n",
            "Requirement already satisfied: six>=1.5 in /usr/local/lib/python3.10/dist-packages (from python-dateutil>=2.7->matplotlib~=3.0->gradio) (1.16.0)\n",
            "Requirement already satisfied: markdown-it-py>=2.2.0 in /usr/local/lib/python3.10/dist-packages (from rich<14.0.0,>=10.11.0->typer[all]<1.0,>=0.9->gradio) (3.0.0)\n",
            "Requirement already satisfied: pygments<3.0.0,>=2.13.0 in /usr/local/lib/python3.10/dist-packages (from rich<14.0.0,>=10.11.0->typer[all]<1.0,>=0.9->gradio) (2.16.1)\n",
            "Requirement already satisfied: exceptiongroup in /usr/local/lib/python3.10/dist-packages (from anyio->httpx>=0.24.1->gradio) (1.2.0)\n",
            "Requirement already satisfied: charset-normalizer<4,>=2 in /usr/local/lib/python3.10/dist-packages (from requests->huggingface-hub>=0.19.3->gradio) (3.3.2)\n",
            "Requirement already satisfied: urllib3<3,>=1.21.1 in /usr/local/lib/python3.10/dist-packages (from requests->huggingface-hub>=0.19.3->gradio) (2.0.7)\n",
            "Requirement already satisfied: mdurl~=0.1 in /usr/local/lib/python3.10/dist-packages (from markdown-it-py>=2.2.0->rich<14.0.0,>=10.11.0->typer[all]<1.0,>=0.9->gradio) (0.1.2)\n",
            "Building wheels for collected packages: ffmpy\n",
            "  Building wheel for ffmpy (setup.py) ... \u001b[?25l\u001b[?25hdone\n",
            "  Created wheel for ffmpy: filename=ffmpy-0.3.2-py3-none-any.whl size=5584 sha256=c79d08b45d1c564b8d565096860cf30a29d57f602e53b5cb9414b65557cb072e\n",
            "  Stored in directory: /root/.cache/pip/wheels/bd/65/9a/671fc6dcde07d4418df0c592f8df512b26d7a0029c2a23dd81\n",
            "Successfully built ffmpy\n",
            "Installing collected packages: pydub, ffmpy, websockets, tomlkit, shellingham, semantic-version, ruff, python-multipart, orjson, h11, colorama, aiofiles, uvicorn, starlette, httpcore, httpx, fastapi, gradio-client, gradio\n",
            "Successfully installed aiofiles-23.2.1 colorama-0.4.6 fastapi-0.110.0 ffmpy-0.3.2 gradio-4.19.2 gradio-client-0.10.1 h11-0.14.0 httpcore-1.0.4 httpx-0.27.0 orjson-3.9.15 pydub-0.25.1 python-multipart-0.0.9 ruff-0.2.2 semantic-version-2.10.0 shellingham-1.5.4 starlette-0.36.3 tomlkit-0.12.0 uvicorn-0.27.1 websockets-11.0.3\n"
          ]
        }
      ]
    },
    {
      "cell_type": "markdown",
      "source": [
        "Apologies for the confusion once again. Gradio does not have a built-in feature to dynamically update dropdown options based on user selection. However, you can achieve this using IPython HTML widgets. Here's an example of how you can implement it:"
      ],
      "metadata": {
        "id": "fSIbhra_9f6s"
      }
    },
    {
      "cell_type": "code",
      "execution_count": 5,
      "metadata": {
        "colab": {
          "base_uri": "https://localhost:8080/",
          "height": 645
        },
        "id": "97VvIbWN2BFP",
        "outputId": "a7a4d57a-9250-4ab6-8e70-9c006e4a80ae"
      },
      "outputs": [
        {
          "output_type": "stream",
          "name": "stdout",
          "text": [
            "Setting queue=True in a Colab notebook requires sharing enabled. Setting `share=True` (you can turn this off by setting `share=False` in `launch()` explicitly).\n",
            "\n",
            "Colab notebook detected. To show errors in colab notebook, set debug=True in launch()\n",
            "Running on public URL: https://62c316ad2529a9450c.gradio.live\n",
            "\n",
            "This share link expires in 72 hours. For free permanent hosting and GPU upgrades, run `gradio deploy` from Terminal to deploy to Spaces (https://huggingface.co/spaces)\n"
          ]
        },
        {
          "output_type": "display_data",
          "data": {
            "text/plain": [
              "<IPython.core.display.HTML object>"
            ],
            "text/html": [
              "<div><iframe src=\"https://62c316ad2529a9450c.gradio.live\" width=\"100%\" height=\"500\" allow=\"autoplay; camera; microphone; clipboard-read; clipboard-write;\" frameborder=\"0\" allowfullscreen></iframe></div>"
            ]
          },
          "metadata": {}
        },
        {
          "output_type": "execute_result",
          "data": {
            "text/plain": []
          },
          "metadata": {},
          "execution_count": 5
        }
      ],
      "source": [
        "import pandas as pd\n",
        "from vaderSentiment.vaderSentiment import SentimentIntensityAnalyzer\n",
        "import matplotlib.pyplot as plt\n",
        "import gradio as gr\n",
        "\n",
        "# Read the Excel file into a pandas DataFrame\n",
        "df = pd.read_excel('/content/tweets_by_topics_120.xlsx', sheet_name=None)\n",
        "\n",
        "# Read the CSV file into a pandas DataFrame\n",
        "df_topics = pd.read_csv('/content/final_topics_name_120.csv')\n",
        "\n",
        "# Get a list of all topics in the DataFrame\n",
        "topics = list(df_topics['Topic_Name'])\n",
        "\n",
        "# Function to perform sentiment analysis and generate bar chart\n",
        "def sentiment_analysis(topic):\n",
        "    sheet_data = df[f'Topic_{topics.index(topic)}']\n",
        "    text_column = sheet_data['text']\n",
        "    analyzer = SentimentIntensityAnalyzer()\n",
        "    sentiment_scores = text_column.apply(lambda x: analyzer.polarity_scores(x)['compound'])\n",
        "    positive_count = len([score for score in sentiment_scores if score > 0])\n",
        "    negative_count = len([score for score in sentiment_scores if score < 0])\n",
        "    neutral_count = len([score for score in sentiment_scores if score == 0])\n",
        "\n",
        "    # Plot bar chart\n",
        "    plt.figure(figsize=(10, 6))\n",
        "    bar_positions = [1, 2, 3]\n",
        "    bar_heights = [positive_count, negative_count, neutral_count]\n",
        "    bar_labels = ['Positive', 'Negative', 'Neutral']\n",
        "    bar_colors = ['green', 'red', 'blue']\n",
        "    plt.bar(bar_positions, bar_heights, tick_label=bar_labels, color=bar_colors)\n",
        "    for i, height in enumerate(bar_heights):\n",
        "        plt.text(bar_positions[i], height, str(height), ha='center', va='bottom')\n",
        "    plt.xlabel('Sentiment')\n",
        "    plt.ylabel('Tweet Count')\n",
        "    plt.title(f'Sentiment Analysis - {topic}')\n",
        "\n",
        "    # Save the plot as an image file\n",
        "    image_path = \"sentiment_plot.png\"\n",
        "    plt.savefig(image_path)\n",
        "    plt.close()\n",
        "\n",
        "    return image_path\n",
        "\n",
        "# Create Gradio interface\n",
        "iface = gr.Interface(fn=sentiment_analysis, inputs=[gr.Dropdown(topics)], outputs=\"image\")\n",
        "iface.launch()\n",
        "\n"
      ]
    },
    {
      "cell_type": "code",
      "source": [
        "import pandas as pd\n",
        "from vaderSentiment.vaderSentiment import SentimentIntensityAnalyzer\n",
        "import matplotlib.pyplot as plt\n",
        "import gradio as gr\n",
        "\n",
        "# Read the Excel file into a pandas DataFrame\n",
        "df = pd.read_excel('/content/tweets_by_topics_120.xlsx', sheet_name=None)\n",
        "\n",
        "# Read the CSV files into pandas DataFrames\n",
        "df_topics = pd.read_csv('/content/final_topics_name_120.csv')\n",
        "df_clusters = pd.read_csv('/content/cluster_topics_Pediatric.csv')\n",
        "\n",
        "# Get lists of topics and clusters from the DataFrames\n",
        "topics = list(df_topics['Topic_Name'])\n",
        "clusters = list(df_clusters.columns)\n",
        "\n",
        "# Function to perform sentiment analysis and generate bar chart\n",
        "def sentiment_analysis(cluster, topic):\n",
        "    topic_name = df_clusters[cluster][0]  # Get the topic name based on the selected cluster\n",
        "    sheet_data = df[f'Topic_{topics.index(topic_name)}']\n",
        "    text_column = sheet_data['text']\n",
        "    analyzer = SentimentIntensityAnalyzer()\n",
        "    sentiment_scores = text_column.apply(lambda x: analyzer.polarity_scores(x)['compound'])\n",
        "    positive_count = len([score for score in sentiment_scores if score > 0])\n",
        "    negative_count = len([score for score in sentiment_scores if score < 0])\n",
        "    neutral_count = len([score for score in sentiment_scores if score == 0])\n",
        "\n",
        "    # Plot bar chart\n",
        "    plt.figure(figsize=(10, 6))\n",
        "    bar_positions = [1, 2, 3]\n",
        "    bar_heights = [positive_count, negative_count, neutral_count]\n",
        "    bar_labels = ['Positive', 'Negative', 'Neutral']\n",
        "    bar_colors = ['green', 'red', 'blue']\n",
        "    plt.bar(bar_positions, bar_heights, tick_label=bar_labels, color=bar_colors)\n",
        "    for i, height in enumerate(bar_heights):\n",
        "        plt.text(bar_positions[i], height, str(height), ha='center', va='bottom')\n",
        "    plt.xlabel('Sentiment')\n",
        "    plt.ylabel('Tweet Count')\n",
        "    plt.title(f'Sentiment Analysis - {topic}')\n",
        "\n",
        "    # Save the plot as an image file\n",
        "    image_path = \"sentiment_plot.png\"\n",
        "    plt.savefig(image_path)\n",
        "    plt.close()\n",
        "\n",
        "    return image_path\n",
        "\n",
        "# Create Gradio interface\n",
        "iface = gr.Interface(fn=sentiment_analysis, inputs=[gr.Dropdown(clusters), gr.Dropdown(topics)], outputs=\"image\")\n",
        "iface.launch()\n"
      ],
      "metadata": {
        "colab": {
          "base_uri": "https://localhost:8080/",
          "height": 645
        },
        "id": "ZNBLdUoPf62l",
        "outputId": "7c49d675-3d78-460a-dab0-7e9ea7dd9d5c"
      },
      "execution_count": 6,
      "outputs": [
        {
          "output_type": "stream",
          "name": "stdout",
          "text": [
            "Setting queue=True in a Colab notebook requires sharing enabled. Setting `share=True` (you can turn this off by setting `share=False` in `launch()` explicitly).\n",
            "\n",
            "Colab notebook detected. To show errors in colab notebook, set debug=True in launch()\n",
            "Running on public URL: https://937458c952993ae726.gradio.live\n",
            "\n",
            "This share link expires in 72 hours. For free permanent hosting and GPU upgrades, run `gradio deploy` from Terminal to deploy to Spaces (https://huggingface.co/spaces)\n"
          ]
        },
        {
          "output_type": "display_data",
          "data": {
            "text/plain": [
              "<IPython.core.display.HTML object>"
            ],
            "text/html": [
              "<div><iframe src=\"https://937458c952993ae726.gradio.live\" width=\"100%\" height=\"500\" allow=\"autoplay; camera; microphone; clipboard-read; clipboard-write;\" frameborder=\"0\" allowfullscreen></iframe></div>"
            ]
          },
          "metadata": {}
        },
        {
          "output_type": "execute_result",
          "data": {
            "text/plain": []
          },
          "metadata": {},
          "execution_count": 6
        }
      ]
    },
    {
      "cell_type": "code",
      "source": [
        "import gradio as gr\n",
        "import pandas as pd\n",
        "\n",
        "# Load the CSV file into a Pandas dataframe\n",
        "df = pd.read_csv(\"/content/cluster_topics_Pediatric.csv\")\n",
        "\n",
        "\n",
        "# Create a dictionary to store the topic names for each cluster label\n",
        "topics_by_cluster = {}\n",
        "for i in range(0, len(df.columns)):\n",
        "    cluster_label = df.columns[i]\n",
        "    if cluster_label not in topics_by_cluster:\n",
        "        topics_by_cluster[cluster_label] = []\n",
        "    for j in range(len(df)):\n",
        "        topic_name = df.iloc[j, i]\n",
        "        if pd.isna(topic_name):\n",
        "            break\n",
        "        if topic_name not in topics_by_cluster[cluster_label]:\n",
        "            topics_by_cluster[cluster_label].append(topic_name)\n",
        "\n",
        "# Create a dropdown using Gradio\n",
        "cluster_dropdown = gr.Dropdown(choices=list(topics_by_cluster.keys()), label=\"Cluster Label\")\n",
        "\n",
        "# Define a function to display the assigned topic names for a selected cluster label\n",
        "def update_topics(cluster_label):\n",
        "    assigned_topics = get_topics(cluster_label)\n",
        "    if len(assigned_topics) == 0:\n",
        "        topic_string = \"No topics assigned to this cluster label.\"\n",
        "    else:\n",
        "        topic_string = \"\\n\".join(assigned_topics)\n",
        "    return topic_string\n",
        "\n",
        "# Define a function to return the assigned topic names for a given cluster label\n",
        "def get_topics(cluster_label):\n",
        "    if cluster_label in topics_by_cluster:\n",
        "        return topics_by_cluster[cluster_label]\n",
        "    else:\n",
        "        return []\n",
        "\n",
        "# Update the assigned topic names when the cluster dropdown value changes\n",
        "gr.Interface(update_topics, cluster_dropdown, \"text\").launch()"
      ],
      "metadata": {
        "colab": {
          "base_uri": "https://localhost:8080/",
          "height": 645
        },
        "id": "_cvBg7fK7l_b",
        "outputId": "d28567f1-1292-4111-bde8-888937a277bf"
      },
      "execution_count": 26,
      "outputs": [
        {
          "output_type": "stream",
          "name": "stdout",
          "text": [
            "Setting queue=True in a Colab notebook requires sharing enabled. Setting `share=True` (you can turn this off by setting `share=False` in `launch()` explicitly).\n",
            "\n",
            "Colab notebook detected. To show errors in colab notebook, set debug=True in launch()\n",
            "Running on public URL: https://c904a0478a4ce868a0.gradio.live\n",
            "\n",
            "This share link expires in 72 hours. For free permanent hosting and GPU upgrades, run `gradio deploy` from Terminal to deploy to Spaces (https://huggingface.co/spaces)\n"
          ]
        },
        {
          "output_type": "display_data",
          "data": {
            "text/plain": [
              "<IPython.core.display.HTML object>"
            ],
            "text/html": [
              "<div><iframe src=\"https://c904a0478a4ce868a0.gradio.live\" width=\"100%\" height=\"500\" allow=\"autoplay; camera; microphone; clipboard-read; clipboard-write;\" frameborder=\"0\" allowfullscreen></iframe></div>"
            ]
          },
          "metadata": {}
        },
        {
          "output_type": "execute_result",
          "data": {
            "text/plain": []
          },
          "metadata": {},
          "execution_count": 26
        }
      ]
    },
    {
      "cell_type": "markdown",
      "source": [
        "Apologies for the confusion. You are correct that Gradio does not currently provide a built-in mechanism to dynamically update dropdown choices based on the selection of another dropdown.\n",
        "\n",
        "To work around this limitation, you can create a custom HTML/JavaScript interface using the gradio.Interface.layout attribute. Here's an example:"
      ],
      "metadata": {
        "id": "1XOIz9P4-_Qw"
      }
    },
    {
      "cell_type": "markdown",
      "source": [
        "## MY Final Code"
      ],
      "metadata": {
        "id": "z__u_sE6Fa_r"
      }
    },
    {
      "cell_type": "code",
      "source": [
        "import pandas as pd\n",
        "from vaderSentiment.vaderSentiment import SentimentIntensityAnalyzer\n",
        "import matplotlib.pyplot as plt\n",
        "import gradio as gr\n",
        "\n",
        "# Read the CSV file containing the cluster information\n",
        "cluster_info = pd.read_csv(\"/content/cluster_topics_Pediatric.csv\", header=None)\n",
        "cluster_labels = cluster_info.iloc[0, :].tolist()\n",
        "cluster_info = cluster_info.iloc[1:, :]\n",
        "\n",
        "# Read the final topic names from the CSV file and drop rows with NaN values\n",
        "final_topic_names = pd.read_csv(\"/content/final_topics_name_120.csv\").dropna()\n",
        "\n",
        "# Read the Excel sheet with tweets for each topic\n",
        "tweets_by_topic = pd.read_excel(\"/content/tweets_by_topics_120.xlsx\", sheet_name=None)\n",
        "\n",
        "# Create dropdown menus for cluster and topic selection\n",
        "cluster_dropdown = widgets.Dropdown(options=cluster_labels, description=\"Select Cluster\")\n",
        "topic_dropdown = widgets.Dropdown(description=\"Select Topic\")\n",
        "\n",
        "def update_topic_options(change):\n",
        "    selected_cluster = change.new\n",
        "    # Get the column index of the selected cluster\n",
        "    cluster_index = cluster_labels.index(selected_cluster)\n",
        "    # Get the topic names for the selected cluster\n",
        "    topics = cluster_info.iloc[:, cluster_index].dropna().tolist()\n",
        "    topic_dropdown.options = topics\n",
        "\n",
        "cluster_dropdown.observe(update_topic_options, 'value')\n",
        "\n",
        "output = widgets.Output()\n",
        "\n",
        "def on_button_clicked(b):\n",
        "    with output:\n",
        "        output.clear_output()\n",
        "        selected_cluster = cluster_dropdown.value\n",
        "        selected_topic = topic_dropdown.value\n",
        "\n",
        "        # Find the topic name in the final topic names CSV\n",
        "        topic_index = final_topic_names[final_topic_names[\"Topic_Name\"] == selected_topic].index[0]\n",
        "\n",
        "        # Get the corresponding sheet name\n",
        "        sheet_name = f\"Topic_{topic_index}\"\n",
        "\n",
        "        # Get the tweets for the selected topic from the Excel sheet\n",
        "        tweets = tweets_by_topic[sheet_name]\n",
        "\n",
        "        # Perform sentiment analysis on the tweets\n",
        "        analyzer = SentimentIntensityAnalyzer()\n",
        "        sentiment_scores = tweets[\"text\"].apply(lambda x: analyzer.polarity_scores(x)['compound'])\n",
        "\n",
        "        # Count the sentiments\n",
        "        positive_count = len([score for score in sentiment_scores if score > 0])\n",
        "        negative_count = len([score for score in sentiment_scores if score < 0])\n",
        "        neutral_count = len([score for score in sentiment_scores if score == 0])\n",
        "\n",
        "        # Plot the bar chart\n",
        "        plt.figure(figsize=(10, 6))\n",
        "        bar_positions = [1, 2, 3]\n",
        "        bar_heights = [positive_count, negative_count, neutral_count]\n",
        "        bar_labels = ['Positive', 'Negative', 'Neutral']\n",
        "        bar_colors = ['green', 'red', 'blue']\n",
        "        plt.bar(bar_positions, bar_heights, tick_label=bar_labels, color=bar_colors)\n",
        "        for i, height in enumerate(bar_heights):\n",
        "            plt.text(bar_positions[i], height, str(height), ha='center', va='bottom')\n",
        "        plt.xlabel('Sentiment')\n",
        "        plt.ylabel('Tweet Count')\n",
        "        plt.title(f'Sentiment Analysis - {selected_cluster} - {selected_topic}')\n",
        "\n",
        "        # Display the plot\n",
        "        plt.show()\n",
        "\n",
        "button = widgets.Button(description=\"Submit\")\n",
        "button.on_click(on_button_clicked)\n",
        "\n",
        "display(cluster_dropdown)\n",
        "display(topic_dropdown)\n",
        "display(button)\n",
        "display(output)\n"
      ],
      "metadata": {
        "colab": {
          "base_uri": "https://localhost:8080/",
          "height": 658,
          "referenced_widgets": [
            "04aa3a4f07e7484cb455cad1b05067cd",
            "07a53c1aaad1476990ecfd0d0998f96e",
            "808f77b9f7cb416eb3c46b79f4efe4ec",
            "64f9d11ff73d44a8a9643f9edc325f54",
            "ebbe3d8ce6ac42f1bd306a70b7079093",
            "526a94e1d85f4443a2efae1ae01dae34",
            "0de38e4feba945ef83363d0094ecc773",
            "81769a883e6143b49588592bb39fcae5",
            "1b835fd30f93451eb8eba602aaa761d2",
            "05fe0001e932411c9201ac102b0776c0",
            "0569c8f32710421694b6658c7a9f7f23"
          ]
        },
        "id": "Z1tuWBrlFN-Z",
        "outputId": "84c5b3ec-b301-4791-fc1e-56b1d269664f"
      },
      "execution_count": 25,
      "outputs": [
        {
          "output_type": "display_data",
          "data": {
            "text/plain": [
              "Dropdown(description='Select Cluster', options=('Vaccine Concerns', 'Maternal and Child Health', 'Pediatric CO…"
            ],
            "application/vnd.jupyter.widget-view+json": {
              "version_major": 2,
              "version_minor": 0,
              "model_id": "04aa3a4f07e7484cb455cad1b05067cd"
            }
          },
          "metadata": {}
        },
        {
          "output_type": "display_data",
          "data": {
            "text/plain": [
              "Dropdown(description='Select Topic', options=(), value=None)"
            ],
            "application/vnd.jupyter.widget-view+json": {
              "version_major": 2,
              "version_minor": 0,
              "model_id": "64f9d11ff73d44a8a9643f9edc325f54"
            }
          },
          "metadata": {}
        },
        {
          "output_type": "display_data",
          "data": {
            "text/plain": [
              "Button(description='Submit', style=ButtonStyle())"
            ],
            "application/vnd.jupyter.widget-view+json": {
              "version_major": 2,
              "version_minor": 0,
              "model_id": "0de38e4feba945ef83363d0094ecc773"
            }
          },
          "metadata": {}
        },
        {
          "output_type": "display_data",
          "data": {
            "text/plain": [
              "Output()"
            ],
            "application/vnd.jupyter.widget-view+json": {
              "version_major": 2,
              "version_minor": 0,
              "model_id": "05fe0001e932411c9201ac102b0776c0"
            }
          },
          "metadata": {}
        }
      ]
    },
    {
      "cell_type": "code",
      "source": [
        "import ipywidgets as widgets"
      ],
      "metadata": {
        "id": "XKm4hrHg9kHe"
      },
      "execution_count": null,
      "outputs": []
    }
  ]
}