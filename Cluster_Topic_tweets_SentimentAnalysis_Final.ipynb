{
  "nbformat": 4,
  "nbformat_minor": 0,
  "metadata": {
    "colab": {
      "provenance": [],
      "include_colab_link": true
    },
    "kernelspec": {
      "name": "python3",
      "display_name": "Python 3"
    },
    "language_info": {
      "name": "python"
    },
    "widgets": {
      "application/vnd.jupyter.widget-state+json": {
        "f2a7055d72c241e99559788d71c2e14f": {
          "model_module": "@jupyter-widgets/controls",
          "model_name": "DropdownModel",
          "model_module_version": "1.5.0",
          "state": {
            "_dom_classes": [],
            "_model_module": "@jupyter-widgets/controls",
            "_model_module_version": "1.5.0",
            "_model_name": "DropdownModel",
            "_options_labels": [
              "Vaccine Concerns",
              "Maternal and Child Health",
              "Pediatric COVID-19 Vaccination",
              "Pediatric Health Research",
              "Tetanus Prevention",
              "Child Vaccination and Safety",
              "Diphtheria Prevention",
              " Health Investigations",
              "Vaccination and Immunization"
            ],
            "_view_count": null,
            "_view_module": "@jupyter-widgets/controls",
            "_view_module_version": "1.5.0",
            "_view_name": "DropdownView",
            "description": "Select Cluster",
            "description_tooltip": null,
            "disabled": false,
            "index": 6,
            "layout": "IPY_MODEL_4d2e0e8a3e6c4b88ba8b4d61a5abb4be",
            "style": "IPY_MODEL_9d25ccf50a604bae9a1bf131beaaa2c1"
          }
        },
        "4d2e0e8a3e6c4b88ba8b4d61a5abb4be": {
          "model_module": "@jupyter-widgets/base",
          "model_name": "LayoutModel",
          "model_module_version": "1.2.0",
          "state": {
            "_model_module": "@jupyter-widgets/base",
            "_model_module_version": "1.2.0",
            "_model_name": "LayoutModel",
            "_view_count": null,
            "_view_module": "@jupyter-widgets/base",
            "_view_module_version": "1.2.0",
            "_view_name": "LayoutView",
            "align_content": null,
            "align_items": null,
            "align_self": null,
            "border": null,
            "bottom": null,
            "display": null,
            "flex": null,
            "flex_flow": null,
            "grid_area": null,
            "grid_auto_columns": null,
            "grid_auto_flow": null,
            "grid_auto_rows": null,
            "grid_column": null,
            "grid_gap": null,
            "grid_row": null,
            "grid_template_areas": null,
            "grid_template_columns": null,
            "grid_template_rows": null,
            "height": null,
            "justify_content": null,
            "justify_items": null,
            "left": null,
            "margin": null,
            "max_height": null,
            "max_width": null,
            "min_height": null,
            "min_width": null,
            "object_fit": null,
            "object_position": null,
            "order": null,
            "overflow": null,
            "overflow_x": null,
            "overflow_y": null,
            "padding": null,
            "right": null,
            "top": null,
            "visibility": null,
            "width": null
          }
        },
        "9d25ccf50a604bae9a1bf131beaaa2c1": {
          "model_module": "@jupyter-widgets/controls",
          "model_name": "DescriptionStyleModel",
          "model_module_version": "1.5.0",
          "state": {
            "_model_module": "@jupyter-widgets/controls",
            "_model_module_version": "1.5.0",
            "_model_name": "DescriptionStyleModel",
            "_view_count": null,
            "_view_module": "@jupyter-widgets/base",
            "_view_module_version": "1.2.0",
            "_view_name": "StyleView",
            "description_width": ""
          }
        },
        "91b3ea9984e046e6bb441636129769b0": {
          "model_module": "@jupyter-widgets/controls",
          "model_name": "DropdownModel",
          "model_module_version": "1.5.0",
          "state": {
            "_dom_classes": [],
            "_model_module": "@jupyter-widgets/controls",
            "_model_module_version": "1.5.0",
            "_model_name": "DropdownModel",
            "_options_labels": [
              "Diphtheria Vaccination",
              "Thimerosal Exposure and Brain Damage",
              "Diphtheria"
            ],
            "_view_count": null,
            "_view_module": "@jupyter-widgets/controls",
            "_view_module_version": "1.5.0",
            "_view_name": "DropdownView",
            "description": "Select Topic",
            "description_tooltip": null,
            "disabled": false,
            "index": 1,
            "layout": "IPY_MODEL_af8fb9ccdf984fa69c85a49501f7960d",
            "style": "IPY_MODEL_a6ad0bc55ce04a17bc2fb2a3b2d6df3b"
          }
        },
        "af8fb9ccdf984fa69c85a49501f7960d": {
          "model_module": "@jupyter-widgets/base",
          "model_name": "LayoutModel",
          "model_module_version": "1.2.0",
          "state": {
            "_model_module": "@jupyter-widgets/base",
            "_model_module_version": "1.2.0",
            "_model_name": "LayoutModel",
            "_view_count": null,
            "_view_module": "@jupyter-widgets/base",
            "_view_module_version": "1.2.0",
            "_view_name": "LayoutView",
            "align_content": null,
            "align_items": null,
            "align_self": null,
            "border": null,
            "bottom": null,
            "display": null,
            "flex": null,
            "flex_flow": null,
            "grid_area": null,
            "grid_auto_columns": null,
            "grid_auto_flow": null,
            "grid_auto_rows": null,
            "grid_column": null,
            "grid_gap": null,
            "grid_row": null,
            "grid_template_areas": null,
            "grid_template_columns": null,
            "grid_template_rows": null,
            "height": null,
            "justify_content": null,
            "justify_items": null,
            "left": null,
            "margin": null,
            "max_height": null,
            "max_width": null,
            "min_height": null,
            "min_width": null,
            "object_fit": null,
            "object_position": null,
            "order": null,
            "overflow": null,
            "overflow_x": null,
            "overflow_y": null,
            "padding": null,
            "right": null,
            "top": null,
            "visibility": null,
            "width": null
          }
        },
        "a6ad0bc55ce04a17bc2fb2a3b2d6df3b": {
          "model_module": "@jupyter-widgets/controls",
          "model_name": "DescriptionStyleModel",
          "model_module_version": "1.5.0",
          "state": {
            "_model_module": "@jupyter-widgets/controls",
            "_model_module_version": "1.5.0",
            "_model_name": "DescriptionStyleModel",
            "_view_count": null,
            "_view_module": "@jupyter-widgets/base",
            "_view_module_version": "1.2.0",
            "_view_name": "StyleView",
            "description_width": ""
          }
        },
        "6e509f18f3ed47a39a033545a781dba2": {
          "model_module": "@jupyter-widgets/controls",
          "model_name": "ButtonModel",
          "model_module_version": "1.5.0",
          "state": {
            "_dom_classes": [],
            "_model_module": "@jupyter-widgets/controls",
            "_model_module_version": "1.5.0",
            "_model_name": "ButtonModel",
            "_view_count": null,
            "_view_module": "@jupyter-widgets/controls",
            "_view_module_version": "1.5.0",
            "_view_name": "ButtonView",
            "button_style": "",
            "description": "Submit",
            "disabled": false,
            "icon": "",
            "layout": "IPY_MODEL_45f655aaaa794d0989c241b0cd84a4b8",
            "style": "IPY_MODEL_244c481de51e4c8d94792c8242981108",
            "tooltip": ""
          }
        },
        "45f655aaaa794d0989c241b0cd84a4b8": {
          "model_module": "@jupyter-widgets/base",
          "model_name": "LayoutModel",
          "model_module_version": "1.2.0",
          "state": {
            "_model_module": "@jupyter-widgets/base",
            "_model_module_version": "1.2.0",
            "_model_name": "LayoutModel",
            "_view_count": null,
            "_view_module": "@jupyter-widgets/base",
            "_view_module_version": "1.2.0",
            "_view_name": "LayoutView",
            "align_content": null,
            "align_items": null,
            "align_self": null,
            "border": null,
            "bottom": null,
            "display": null,
            "flex": null,
            "flex_flow": null,
            "grid_area": null,
            "grid_auto_columns": null,
            "grid_auto_flow": null,
            "grid_auto_rows": null,
            "grid_column": null,
            "grid_gap": null,
            "grid_row": null,
            "grid_template_areas": null,
            "grid_template_columns": null,
            "grid_template_rows": null,
            "height": null,
            "justify_content": null,
            "justify_items": null,
            "left": null,
            "margin": null,
            "max_height": null,
            "max_width": null,
            "min_height": null,
            "min_width": null,
            "object_fit": null,
            "object_position": null,
            "order": null,
            "overflow": null,
            "overflow_x": null,
            "overflow_y": null,
            "padding": null,
            "right": null,
            "top": null,
            "visibility": null,
            "width": null
          }
        },
        "244c481de51e4c8d94792c8242981108": {
          "model_module": "@jupyter-widgets/controls",
          "model_name": "ButtonStyleModel",
          "model_module_version": "1.5.0",
          "state": {
            "_model_module": "@jupyter-widgets/controls",
            "_model_module_version": "1.5.0",
            "_model_name": "ButtonStyleModel",
            "_view_count": null,
            "_view_module": "@jupyter-widgets/base",
            "_view_module_version": "1.2.0",
            "_view_name": "StyleView",
            "button_color": null,
            "font_weight": ""
          }
        },
        "18f4fbd0c69347848ccfc6c4efadba56": {
          "model_module": "@jupyter-widgets/output",
          "model_name": "OutputModel",
          "model_module_version": "1.0.0",
          "state": {
            "_dom_classes": [],
            "_model_module": "@jupyter-widgets/output",
            "_model_module_version": "1.0.0",
            "_model_name": "OutputModel",
            "_view_count": null,
            "_view_module": "@jupyter-widgets/output",
            "_view_module_version": "1.0.0",
            "_view_name": "OutputView",
            "layout": "IPY_MODEL_539e31e1e325409aa03893dd34ba4228",
            "msg_id": "",
            "outputs": [
              {
                "output_type": "display_data",
                "data": {
                  "text/plain": "<Figure size 500x400 with 1 Axes>",
                  "image/png": "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\n"
                },
                "metadata": {}
              }
            ]
          }
        },
        "539e31e1e325409aa03893dd34ba4228": {
          "model_module": "@jupyter-widgets/base",
          "model_name": "LayoutModel",
          "model_module_version": "1.2.0",
          "state": {
            "_model_module": "@jupyter-widgets/base",
            "_model_module_version": "1.2.0",
            "_model_name": "LayoutModel",
            "_view_count": null,
            "_view_module": "@jupyter-widgets/base",
            "_view_module_version": "1.2.0",
            "_view_name": "LayoutView",
            "align_content": null,
            "align_items": null,
            "align_self": null,
            "border": null,
            "bottom": null,
            "display": null,
            "flex": null,
            "flex_flow": null,
            "grid_area": null,
            "grid_auto_columns": null,
            "grid_auto_flow": null,
            "grid_auto_rows": null,
            "grid_column": null,
            "grid_gap": null,
            "grid_row": null,
            "grid_template_areas": null,
            "grid_template_columns": null,
            "grid_template_rows": null,
            "height": null,
            "justify_content": null,
            "justify_items": null,
            "left": null,
            "margin": null,
            "max_height": null,
            "max_width": null,
            "min_height": null,
            "min_width": null,
            "object_fit": null,
            "object_position": null,
            "order": null,
            "overflow": null,
            "overflow_x": null,
            "overflow_y": null,
            "padding": null,
            "right": null,
            "top": null,
            "visibility": null,
            "width": null
          }
        }
      }
    }
  },
  "cells": [
    {
      "cell_type": "markdown",
      "metadata": {
        "id": "view-in-github",
        "colab_type": "text"
      },
      "source": [
        "<a href=\"https://colab.research.google.com/github/nisha1365/GEN-AI-POC/blob/main/Cluster_Topic_tweets_SentimentAnalysis_Final.ipynb\" target=\"_parent\"><img src=\"https://colab.research.google.com/assets/colab-badge.svg\" alt=\"Open In Colab\"/></a>"
      ]
    },
    {
      "cell_type": "code",
      "source": [
        "!pip install xlsxwriter"
      ],
      "metadata": {
        "id": "G2p7lgIG419t",
        "colab": {
          "base_uri": "https://localhost:8080/"
        },
        "outputId": "4c4833f2-1cea-4bbc-fc4a-967b26318313"
      },
      "execution_count": 1,
      "outputs": [
        {
          "output_type": "stream",
          "name": "stdout",
          "text": [
            "Collecting xlsxwriter\n",
            "  Downloading XlsxWriter-3.2.0-py3-none-any.whl (159 kB)\n",
            "\u001b[?25l     \u001b[90m━━━━━━━━━━━━━━━━━━━━━━━━━━━━━━━━━━━━━━━━\u001b[0m \u001b[32m0.0/159.9 kB\u001b[0m \u001b[31m?\u001b[0m eta \u001b[36m-:--:--\u001b[0m\r\u001b[2K     \u001b[90m━━━━━━━━━━━━━━━━━━━━━━━━━━━━━━━━━━━━━━━━\u001b[0m \u001b[32m159.9/159.9 kB\u001b[0m \u001b[31m7.4 MB/s\u001b[0m eta \u001b[36m0:00:00\u001b[0m\n",
            "\u001b[?25hInstalling collected packages: xlsxwriter\n",
            "Successfully installed xlsxwriter-3.2.0\n"
          ]
        }
      ]
    },
    {
      "cell_type": "code",
      "source": [
        "!pip install vaderSentiment"
      ],
      "metadata": {
        "id": "JjNOleMLLbYJ",
        "colab": {
          "base_uri": "https://localhost:8080/"
        },
        "outputId": "897fbee9-556f-4f18-a3d0-e2a1f7a36203"
      },
      "execution_count": 2,
      "outputs": [
        {
          "output_type": "stream",
          "name": "stdout",
          "text": [
            "Collecting vaderSentiment\n",
            "  Downloading vaderSentiment-3.3.2-py2.py3-none-any.whl (125 kB)\n",
            "\u001b[?25l     \u001b[90m━━━━━━━━━━━━━━━━━━━━━━━━━━━━━━━━━━━━━━━━\u001b[0m \u001b[32m0.0/126.0 kB\u001b[0m \u001b[31m?\u001b[0m eta \u001b[36m-:--:--\u001b[0m\r\u001b[2K     \u001b[90m━━━━━━━━━━━━━━━━━━━━━━━━━━━━━━━━━━━━━━━━\u001b[0m \u001b[32m126.0/126.0 kB\u001b[0m \u001b[31m5.2 MB/s\u001b[0m eta \u001b[36m0:00:00\u001b[0m\n",
            "\u001b[?25hRequirement already satisfied: requests in /usr/local/lib/python3.10/dist-packages (from vaderSentiment) (2.31.0)\n",
            "Requirement already satisfied: charset-normalizer<4,>=2 in /usr/local/lib/python3.10/dist-packages (from requests->vaderSentiment) (3.3.2)\n",
            "Requirement already satisfied: idna<4,>=2.5 in /usr/local/lib/python3.10/dist-packages (from requests->vaderSentiment) (3.6)\n",
            "Requirement already satisfied: urllib3<3,>=1.21.1 in /usr/local/lib/python3.10/dist-packages (from requests->vaderSentiment) (2.0.7)\n",
            "Requirement already satisfied: certifi>=2017.4.17 in /usr/local/lib/python3.10/dist-packages (from requests->vaderSentiment) (2024.2.2)\n",
            "Installing collected packages: vaderSentiment\n",
            "Successfully installed vaderSentiment-3.3.2\n"
          ]
        }
      ]
    },
    {
      "cell_type": "code",
      "source": [
        "!pip install gradio"
      ],
      "metadata": {
        "id": "ax4TnprkLnst",
        "colab": {
          "base_uri": "https://localhost:8080/"
        },
        "outputId": "17512a92-bbb5-41f2-970d-b4158f2982a7"
      },
      "execution_count": 3,
      "outputs": [
        {
          "output_type": "stream",
          "name": "stdout",
          "text": [
            "Collecting gradio\n",
            "  Downloading gradio-4.19.2-py3-none-any.whl (16.9 MB)\n",
            "\u001b[2K     \u001b[90m━━━━━━━━━━━━━━━━━━━━━━━━━━━━━━━━━━━━━━━━\u001b[0m \u001b[32m16.9/16.9 MB\u001b[0m \u001b[31m53.1 MB/s\u001b[0m eta \u001b[36m0:00:00\u001b[0m\n",
            "\u001b[?25hCollecting aiofiles<24.0,>=22.0 (from gradio)\n",
            "  Downloading aiofiles-23.2.1-py3-none-any.whl (15 kB)\n",
            "Requirement already satisfied: altair<6.0,>=4.2.0 in /usr/local/lib/python3.10/dist-packages (from gradio) (4.2.2)\n",
            "Collecting fastapi (from gradio)\n",
            "  Downloading fastapi-0.110.0-py3-none-any.whl (92 kB)\n",
            "\u001b[2K     \u001b[90m━━━━━━━━━━━━━━━━━━━━━━━━━━━━━━━━━━━━━━━━\u001b[0m \u001b[32m92.1/92.1 kB\u001b[0m \u001b[31m14.7 MB/s\u001b[0m eta \u001b[36m0:00:00\u001b[0m\n",
            "\u001b[?25hCollecting ffmpy (from gradio)\n",
            "  Downloading ffmpy-0.3.2.tar.gz (5.5 kB)\n",
            "  Preparing metadata (setup.py) ... \u001b[?25l\u001b[?25hdone\n",
            "Collecting gradio-client==0.10.1 (from gradio)\n",
            "  Downloading gradio_client-0.10.1-py3-none-any.whl (307 kB)\n",
            "\u001b[2K     \u001b[90m━━━━━━━━━━━━━━━━━━━━━━━━━━━━━━━━━━━━━━━━\u001b[0m \u001b[32m307.9/307.9 kB\u001b[0m \u001b[31m40.4 MB/s\u001b[0m eta \u001b[36m0:00:00\u001b[0m\n",
            "\u001b[?25hCollecting httpx>=0.24.1 (from gradio)\n",
            "  Downloading httpx-0.27.0-py3-none-any.whl (75 kB)\n",
            "\u001b[2K     \u001b[90m━━━━━━━━━━━━━━━━━━━━━━━━━━━━━━━━━━━━━━━━\u001b[0m \u001b[32m75.6/75.6 kB\u001b[0m \u001b[31m13.9 MB/s\u001b[0m eta \u001b[36m0:00:00\u001b[0m\n",
            "\u001b[?25hRequirement already satisfied: huggingface-hub>=0.19.3 in /usr/local/lib/python3.10/dist-packages (from gradio) (0.20.3)\n",
            "Requirement already satisfied: importlib-resources<7.0,>=1.3 in /usr/local/lib/python3.10/dist-packages (from gradio) (6.1.1)\n",
            "Requirement already satisfied: jinja2<4.0 in /usr/local/lib/python3.10/dist-packages (from gradio) (3.1.3)\n",
            "Requirement already satisfied: markupsafe~=2.0 in /usr/local/lib/python3.10/dist-packages (from gradio) (2.1.5)\n",
            "Requirement already satisfied: matplotlib~=3.0 in /usr/local/lib/python3.10/dist-packages (from gradio) (3.7.1)\n",
            "Requirement already satisfied: numpy~=1.0 in /usr/local/lib/python3.10/dist-packages (from gradio) (1.25.2)\n",
            "Collecting orjson~=3.0 (from gradio)\n",
            "  Downloading orjson-3.9.15-cp310-cp310-manylinux_2_17_x86_64.manylinux2014_x86_64.whl (138 kB)\n",
            "\u001b[2K     \u001b[90m━━━━━━━━━━━━━━━━━━━━━━━━━━━━━━━━━━━━━━━━\u001b[0m \u001b[32m138.5/138.5 kB\u001b[0m \u001b[31m23.7 MB/s\u001b[0m eta \u001b[36m0:00:00\u001b[0m\n",
            "\u001b[?25hRequirement already satisfied: packaging in /usr/local/lib/python3.10/dist-packages (from gradio) (23.2)\n",
            "Requirement already satisfied: pandas<3.0,>=1.0 in /usr/local/lib/python3.10/dist-packages (from gradio) (1.5.3)\n",
            "Requirement already satisfied: pillow<11.0,>=8.0 in /usr/local/lib/python3.10/dist-packages (from gradio) (9.4.0)\n",
            "Requirement already satisfied: pydantic>=2.0 in /usr/local/lib/python3.10/dist-packages (from gradio) (2.6.1)\n",
            "Collecting pydub (from gradio)\n",
            "  Downloading pydub-0.25.1-py2.py3-none-any.whl (32 kB)\n",
            "Collecting python-multipart>=0.0.9 (from gradio)\n",
            "  Downloading python_multipart-0.0.9-py3-none-any.whl (22 kB)\n",
            "Requirement already satisfied: pyyaml<7.0,>=5.0 in /usr/local/lib/python3.10/dist-packages (from gradio) (6.0.1)\n",
            "Collecting ruff>=0.2.2 (from gradio)\n",
            "  Downloading ruff-0.2.2-py3-none-manylinux_2_17_x86_64.manylinux2014_x86_64.whl (7.8 MB)\n",
            "\u001b[2K     \u001b[90m━━━━━━━━━━━━━━━━━━━━━━━━━━━━━━━━━━━━━━━━\u001b[0m \u001b[32m7.8/7.8 MB\u001b[0m \u001b[31m91.6 MB/s\u001b[0m eta \u001b[36m0:00:00\u001b[0m\n",
            "\u001b[?25hCollecting semantic-version~=2.0 (from gradio)\n",
            "  Downloading semantic_version-2.10.0-py2.py3-none-any.whl (15 kB)\n",
            "Collecting tomlkit==0.12.0 (from gradio)\n",
            "  Downloading tomlkit-0.12.0-py3-none-any.whl (37 kB)\n",
            "Requirement already satisfied: typer[all]<1.0,>=0.9 in /usr/local/lib/python3.10/dist-packages (from gradio) (0.9.0)\n",
            "Requirement already satisfied: typing-extensions~=4.0 in /usr/local/lib/python3.10/dist-packages (from gradio) (4.9.0)\n",
            "Collecting uvicorn>=0.14.0 (from gradio)\n",
            "  Downloading uvicorn-0.27.1-py3-none-any.whl (60 kB)\n",
            "\u001b[2K     \u001b[90m━━━━━━━━━━━━━━━━━━━━━━━━━━━━━━━━━━━━━━━━\u001b[0m \u001b[32m60.8/60.8 kB\u001b[0m \u001b[31m9.6 MB/s\u001b[0m eta \u001b[36m0:00:00\u001b[0m\n",
            "\u001b[?25hRequirement already satisfied: fsspec in /usr/local/lib/python3.10/dist-packages (from gradio-client==0.10.1->gradio) (2023.6.0)\n",
            "Collecting websockets<12.0,>=10.0 (from gradio-client==0.10.1->gradio)\n",
            "  Downloading websockets-11.0.3-cp310-cp310-manylinux_2_5_x86_64.manylinux1_x86_64.manylinux_2_17_x86_64.manylinux2014_x86_64.whl (129 kB)\n",
            "\u001b[2K     \u001b[90m━━━━━━━━━━━━━━━━━━━━━━━━━━━━━━━━━━━━━━━━\u001b[0m \u001b[32m129.9/129.9 kB\u001b[0m \u001b[31m21.6 MB/s\u001b[0m eta \u001b[36m0:00:00\u001b[0m\n",
            "\u001b[?25hRequirement already satisfied: entrypoints in /usr/local/lib/python3.10/dist-packages (from altair<6.0,>=4.2.0->gradio) (0.4)\n",
            "Requirement already satisfied: jsonschema>=3.0 in /usr/local/lib/python3.10/dist-packages (from altair<6.0,>=4.2.0->gradio) (4.19.2)\n",
            "Requirement already satisfied: toolz in /usr/local/lib/python3.10/dist-packages (from altair<6.0,>=4.2.0->gradio) (0.12.1)\n",
            "Requirement already satisfied: anyio in /usr/local/lib/python3.10/dist-packages (from httpx>=0.24.1->gradio) (3.7.1)\n",
            "Requirement already satisfied: certifi in /usr/local/lib/python3.10/dist-packages (from httpx>=0.24.1->gradio) (2024.2.2)\n",
            "Collecting httpcore==1.* (from httpx>=0.24.1->gradio)\n",
            "  Downloading httpcore-1.0.4-py3-none-any.whl (77 kB)\n",
            "\u001b[2K     \u001b[90m━━━━━━━━━━━━━━━━━━━━━━━━━━━━━━━━━━━━━━━━\u001b[0m \u001b[32m77.8/77.8 kB\u001b[0m \u001b[31m13.5 MB/s\u001b[0m eta \u001b[36m0:00:00\u001b[0m\n",
            "\u001b[?25hRequirement already satisfied: idna in /usr/local/lib/python3.10/dist-packages (from httpx>=0.24.1->gradio) (3.6)\n",
            "Requirement already satisfied: sniffio in /usr/local/lib/python3.10/dist-packages (from httpx>=0.24.1->gradio) (1.3.0)\n",
            "Collecting h11<0.15,>=0.13 (from httpcore==1.*->httpx>=0.24.1->gradio)\n",
            "  Downloading h11-0.14.0-py3-none-any.whl (58 kB)\n",
            "\u001b[2K     \u001b[90m━━━━━━━━━━━━━━━━━━━━━━━━━━━━━━━━━━━━━━━━\u001b[0m \u001b[32m58.3/58.3 kB\u001b[0m \u001b[31m6.1 MB/s\u001b[0m eta \u001b[36m0:00:00\u001b[0m\n",
            "\u001b[?25hRequirement already satisfied: filelock in /usr/local/lib/python3.10/dist-packages (from huggingface-hub>=0.19.3->gradio) (3.13.1)\n",
            "Requirement already satisfied: requests in /usr/local/lib/python3.10/dist-packages (from huggingface-hub>=0.19.3->gradio) (2.31.0)\n",
            "Requirement already satisfied: tqdm>=4.42.1 in /usr/local/lib/python3.10/dist-packages (from huggingface-hub>=0.19.3->gradio) (4.66.2)\n",
            "Requirement already satisfied: contourpy>=1.0.1 in /usr/local/lib/python3.10/dist-packages (from matplotlib~=3.0->gradio) (1.2.0)\n",
            "Requirement already satisfied: cycler>=0.10 in /usr/local/lib/python3.10/dist-packages (from matplotlib~=3.0->gradio) (0.12.1)\n",
            "Requirement already satisfied: fonttools>=4.22.0 in /usr/local/lib/python3.10/dist-packages (from matplotlib~=3.0->gradio) (4.49.0)\n",
            "Requirement already satisfied: kiwisolver>=1.0.1 in /usr/local/lib/python3.10/dist-packages (from matplotlib~=3.0->gradio) (1.4.5)\n",
            "Requirement already satisfied: pyparsing>=2.3.1 in /usr/local/lib/python3.10/dist-packages (from matplotlib~=3.0->gradio) (3.1.1)\n",
            "Requirement already satisfied: python-dateutil>=2.7 in /usr/local/lib/python3.10/dist-packages (from matplotlib~=3.0->gradio) (2.8.2)\n",
            "Requirement already satisfied: pytz>=2020.1 in /usr/local/lib/python3.10/dist-packages (from pandas<3.0,>=1.0->gradio) (2023.4)\n",
            "Requirement already satisfied: annotated-types>=0.4.0 in /usr/local/lib/python3.10/dist-packages (from pydantic>=2.0->gradio) (0.6.0)\n",
            "Requirement already satisfied: pydantic-core==2.16.2 in /usr/local/lib/python3.10/dist-packages (from pydantic>=2.0->gradio) (2.16.2)\n",
            "Requirement already satisfied: click<9.0.0,>=7.1.1 in /usr/local/lib/python3.10/dist-packages (from typer[all]<1.0,>=0.9->gradio) (8.1.7)\n",
            "Collecting colorama<0.5.0,>=0.4.3 (from typer[all]<1.0,>=0.9->gradio)\n",
            "  Downloading colorama-0.4.6-py2.py3-none-any.whl (25 kB)\n",
            "Collecting shellingham<2.0.0,>=1.3.0 (from typer[all]<1.0,>=0.9->gradio)\n",
            "  Downloading shellingham-1.5.4-py2.py3-none-any.whl (9.8 kB)\n",
            "Requirement already satisfied: rich<14.0.0,>=10.11.0 in /usr/local/lib/python3.10/dist-packages (from typer[all]<1.0,>=0.9->gradio) (13.7.0)\n",
            "Collecting starlette<0.37.0,>=0.36.3 (from fastapi->gradio)\n",
            "  Downloading starlette-0.36.3-py3-none-any.whl (71 kB)\n",
            "\u001b[2K     \u001b[90m━━━━━━━━━━━━━━━━━━━━━━━━━━━━━━━━━━━━━━━━\u001b[0m \u001b[32m71.5/71.5 kB\u001b[0m \u001b[31m13.1 MB/s\u001b[0m eta \u001b[36m0:00:00\u001b[0m\n",
            "\u001b[?25hRequirement already satisfied: attrs>=22.2.0 in /usr/local/lib/python3.10/dist-packages (from jsonschema>=3.0->altair<6.0,>=4.2.0->gradio) (23.2.0)\n",
            "Requirement already satisfied: jsonschema-specifications>=2023.03.6 in /usr/local/lib/python3.10/dist-packages (from jsonschema>=3.0->altair<6.0,>=4.2.0->gradio) (2023.12.1)\n",
            "Requirement already satisfied: referencing>=0.28.4 in /usr/local/lib/python3.10/dist-packages (from jsonschema>=3.0->altair<6.0,>=4.2.0->gradio) (0.33.0)\n",
            "Requirement already satisfied: rpds-py>=0.7.1 in /usr/local/lib/python3.10/dist-packages (from jsonschema>=3.0->altair<6.0,>=4.2.0->gradio) (0.18.0)\n",
            "Requirement already satisfied: six>=1.5 in /usr/local/lib/python3.10/dist-packages (from python-dateutil>=2.7->matplotlib~=3.0->gradio) (1.16.0)\n",
            "Requirement already satisfied: markdown-it-py>=2.2.0 in /usr/local/lib/python3.10/dist-packages (from rich<14.0.0,>=10.11.0->typer[all]<1.0,>=0.9->gradio) (3.0.0)\n",
            "Requirement already satisfied: pygments<3.0.0,>=2.13.0 in /usr/local/lib/python3.10/dist-packages (from rich<14.0.0,>=10.11.0->typer[all]<1.0,>=0.9->gradio) (2.16.1)\n",
            "Requirement already satisfied: exceptiongroup in /usr/local/lib/python3.10/dist-packages (from anyio->httpx>=0.24.1->gradio) (1.2.0)\n",
            "Requirement already satisfied: charset-normalizer<4,>=2 in /usr/local/lib/python3.10/dist-packages (from requests->huggingface-hub>=0.19.3->gradio) (3.3.2)\n",
            "Requirement already satisfied: urllib3<3,>=1.21.1 in /usr/local/lib/python3.10/dist-packages (from requests->huggingface-hub>=0.19.3->gradio) (2.0.7)\n",
            "Requirement already satisfied: mdurl~=0.1 in /usr/local/lib/python3.10/dist-packages (from markdown-it-py>=2.2.0->rich<14.0.0,>=10.11.0->typer[all]<1.0,>=0.9->gradio) (0.1.2)\n",
            "Building wheels for collected packages: ffmpy\n",
            "  Building wheel for ffmpy (setup.py) ... \u001b[?25l\u001b[?25hdone\n",
            "  Created wheel for ffmpy: filename=ffmpy-0.3.2-py3-none-any.whl size=5584 sha256=e3307ef72ddfe42fed847fa0a2b02bfa3c5993565921c2b08cb07c0bfb9c9d82\n",
            "  Stored in directory: /root/.cache/pip/wheels/bd/65/9a/671fc6dcde07d4418df0c592f8df512b26d7a0029c2a23dd81\n",
            "Successfully built ffmpy\n",
            "Installing collected packages: pydub, ffmpy, websockets, tomlkit, shellingham, semantic-version, ruff, python-multipart, orjson, h11, colorama, aiofiles, uvicorn, starlette, httpcore, httpx, fastapi, gradio-client, gradio\n",
            "Successfully installed aiofiles-23.2.1 colorama-0.4.6 fastapi-0.110.0 ffmpy-0.3.2 gradio-4.19.2 gradio-client-0.10.1 h11-0.14.0 httpcore-1.0.4 httpx-0.27.0 orjson-3.9.15 pydub-0.25.1 python-multipart-0.0.9 ruff-0.2.2 semantic-version-2.10.0 shellingham-1.5.4 starlette-0.36.3 tomlkit-0.12.0 uvicorn-0.27.1 websockets-11.0.3\n"
          ]
        }
      ]
    },
    {
      "cell_type": "markdown",
      "source": [
        "Apologies for the confusion once again. Gradio does not have a built-in feature to dynamically update dropdown options based on user selection. However, you can achieve this using IPython HTML widgets. Here's an example of how you can implement it:"
      ],
      "metadata": {
        "id": "fSIbhra_9f6s"
      }
    },
    {
      "cell_type": "code",
      "execution_count": 10,
      "metadata": {
        "colab": {
          "base_uri": "https://localhost:8080/",
          "height": 645
        },
        "id": "97VvIbWN2BFP",
        "outputId": "7f0b3b39-145a-4916-ce94-a68bfee51a64"
      },
      "outputs": [
        {
          "output_type": "stream",
          "name": "stdout",
          "text": [
            "Setting queue=True in a Colab notebook requires sharing enabled. Setting `share=True` (you can turn this off by setting `share=False` in `launch()` explicitly).\n",
            "\n",
            "Colab notebook detected. To show errors in colab notebook, set debug=True in launch()\n",
            "Running on public URL: https://ba89f1966dabe2e74b.gradio.live\n",
            "\n",
            "This share link expires in 72 hours. For free permanent hosting and GPU upgrades, run `gradio deploy` from Terminal to deploy to Spaces (https://huggingface.co/spaces)\n"
          ]
        },
        {
          "output_type": "display_data",
          "data": {
            "text/plain": [
              "<IPython.core.display.HTML object>"
            ],
            "text/html": [
              "<div><iframe src=\"https://ba89f1966dabe2e74b.gradio.live\" width=\"100%\" height=\"500\" allow=\"autoplay; camera; microphone; clipboard-read; clipboard-write;\" frameborder=\"0\" allowfullscreen></iframe></div>"
            ]
          },
          "metadata": {}
        },
        {
          "output_type": "execute_result",
          "data": {
            "text/plain": []
          },
          "metadata": {},
          "execution_count": 10
        }
      ],
      "source": [
        "import pandas as pd\n",
        "from vaderSentiment.vaderSentiment import SentimentIntensityAnalyzer\n",
        "import matplotlib.pyplot as plt\n",
        "import gradio as gr\n",
        "\n",
        "# Read the Excel file into a pandas DataFrame\n",
        "df = pd.read_excel('/content/tweets_by_topics_120.xlsx', sheet_name=None)\n",
        "\n",
        "# Read the CSV file into a pandas DataFrame\n",
        "df_topics = pd.read_csv('/content/final_topics_name_120.csv')\n",
        "\n",
        "# Get a list of all topics in the DataFrame\n",
        "topics = list(df_topics['Topic_Name'])\n",
        "\n",
        "# Function to perform sentiment analysis and generate bar chart\n",
        "def sentiment_analysis(topic):\n",
        "    sheet_data = df[f'Topic_{topics.index(topic)}']\n",
        "    text_column = sheet_data['text']\n",
        "    analyzer = SentimentIntensityAnalyzer()\n",
        "    sentiment_scores = text_column.apply(lambda x: analyzer.polarity_scores(x)['compound'])\n",
        "    positive_count = len([score for score in sentiment_scores if score > 0])\n",
        "    negative_count = len([score for score in sentiment_scores if score < 0])\n",
        "    neutral_count = len([score for score in sentiment_scores if score == 0])\n",
        "\n",
        "    # Plot bar chart\n",
        "    plt.figure(figsize=(10, 6))\n",
        "    bar_positions = [1, 2, 3]\n",
        "    bar_heights = [positive_count, negative_count, neutral_count]\n",
        "    bar_labels = ['Positive', 'Negative', 'Neutral']\n",
        "    bar_colors = ['green', 'red', 'blue']\n",
        "    plt.bar(bar_positions, bar_heights, tick_label=bar_labels, color=bar_colors)\n",
        "    for i, height in enumerate(bar_heights):\n",
        "        plt.text(bar_positions[i], height, str(height), ha='center', va='bottom')\n",
        "    plt.xlabel('Sentiment')\n",
        "    plt.ylabel('Tweet Count')\n",
        "    plt.title(f'Sentiment Analysis - {topic}')\n",
        "\n",
        "    # Save the plot as an image file\n",
        "    image_path = \"sentiment_plot.png\"\n",
        "    plt.savefig(image_path)\n",
        "    plt.close()\n",
        "\n",
        "    return image_path\n",
        "\n",
        "# Create Gradio interface\n",
        "iface = gr.Interface(fn=sentiment_analysis, inputs=[gr.Dropdown(topics)], outputs=\"image\")\n",
        "iface.launch()\n",
        "\n"
      ]
    },
    {
      "cell_type": "code",
      "source": [
        "import pandas as pd\n",
        "from vaderSentiment.vaderSentiment import SentimentIntensityAnalyzer\n",
        "import matplotlib.pyplot as plt\n",
        "import gradio as gr\n",
        "\n",
        "# Read the Excel file into a pandas DataFrame\n",
        "df = pd.read_excel('/content/tweets_by_topics_120.xlsx', sheet_name=None)\n",
        "\n",
        "# Read the CSV files into pandas DataFrames\n",
        "df_topics = pd.read_csv('/content/final_topics_name_120.csv')\n",
        "df_clusters = pd.read_csv('/content/cluster_topics_Pediatric.csv')\n",
        "\n",
        "# Get lists of topics and clusters from the DataFrames\n",
        "topics = list(df_topics['Topic_Name'])\n",
        "clusters = list(df_clusters.columns)\n",
        "\n",
        "# Function to perform sentiment analysis and generate bar chart\n",
        "def sentiment_analysis(cluster, topic):\n",
        "    topic_name = df_clusters[cluster][0]  # Get the topic name based on the selected cluster\n",
        "    sheet_data = df[f'Topic_{topics.index(topic_name)}']\n",
        "    text_column = sheet_data['text']\n",
        "    analyzer = SentimentIntensityAnalyzer()\n",
        "    sentiment_scores = text_column.apply(lambda x: analyzer.polarity_scores(x)['compound'])\n",
        "    positive_count = len([score for score in sentiment_scores if score > 0])\n",
        "    negative_count = len([score for score in sentiment_scores if score < 0])\n",
        "    neutral_count = len([score for score in sentiment_scores if score == 0])\n",
        "\n",
        "    # Plot bar chart\n",
        "    plt.figure(figsize=(10, 6))\n",
        "    bar_positions = [1, 2, 3]\n",
        "    bar_heights = [positive_count, negative_count, neutral_count]\n",
        "    bar_labels = ['Positive', 'Negative', 'Neutral']\n",
        "    bar_colors = ['green', 'red', 'blue']\n",
        "    plt.bar(bar_positions, bar_heights, tick_label=bar_labels, color=bar_colors)\n",
        "    for i, height in enumerate(bar_heights):\n",
        "        plt.text(bar_positions[i], height, str(height), ha='center', va='bottom')\n",
        "    plt.xlabel('Sentiment')\n",
        "    plt.ylabel('Tweet Count')\n",
        "    plt.title(f'Sentiment Analysis - {topic}')\n",
        "\n",
        "    # Save the plot as an image file\n",
        "    image_path = \"sentiment_plot.png\"\n",
        "    plt.savefig(image_path)\n",
        "    plt.close()\n",
        "\n",
        "    return image_path\n",
        "\n",
        "# Create Gradio interface\n",
        "iface = gr.Interface(fn=sentiment_analysis, inputs=[gr.Dropdown(clusters), gr.Dropdown(topics)], outputs=\"image\")\n",
        "iface.launch()\n"
      ],
      "metadata": {
        "colab": {
          "base_uri": "https://localhost:8080/",
          "height": 645
        },
        "id": "ZNBLdUoPf62l",
        "outputId": "799c3873-3db0-4ada-e40b-b1cff90271d5"
      },
      "execution_count": 5,
      "outputs": [
        {
          "output_type": "stream",
          "name": "stdout",
          "text": [
            "Setting queue=True in a Colab notebook requires sharing enabled. Setting `share=True` (you can turn this off by setting `share=False` in `launch()` explicitly).\n",
            "\n",
            "Colab notebook detected. To show errors in colab notebook, set debug=True in launch()\n",
            "Running on public URL: https://c2cf4cbbb26802402d.gradio.live\n",
            "\n",
            "This share link expires in 72 hours. For free permanent hosting and GPU upgrades, run `gradio deploy` from Terminal to deploy to Spaces (https://huggingface.co/spaces)\n"
          ]
        },
        {
          "output_type": "display_data",
          "data": {
            "text/plain": [
              "<IPython.core.display.HTML object>"
            ],
            "text/html": [
              "<div><iframe src=\"https://c2cf4cbbb26802402d.gradio.live\" width=\"100%\" height=\"500\" allow=\"autoplay; camera; microphone; clipboard-read; clipboard-write;\" frameborder=\"0\" allowfullscreen></iframe></div>"
            ]
          },
          "metadata": {}
        },
        {
          "output_type": "execute_result",
          "data": {
            "text/plain": []
          },
          "metadata": {},
          "execution_count": 5
        }
      ]
    },
    {
      "cell_type": "code",
      "source": [
        "import gradio as gr\n",
        "import pandas as pd\n",
        "\n",
        "# Load the CSV file into a Pandas dataframe\n",
        "df = pd.read_csv(\"/content/cluster_topics_Pediatric.csv\")\n",
        "\n",
        "\n",
        "# Create a dictionary to store the topic names for each cluster label\n",
        "topics_by_cluster = {}\n",
        "for i in range(0, len(df.columns)):\n",
        "    cluster_label = df.columns[i]\n",
        "    if cluster_label not in topics_by_cluster:\n",
        "        topics_by_cluster[cluster_label] = []\n",
        "    for j in range(len(df)):\n",
        "        topic_name = df.iloc[j, i]\n",
        "        if pd.isna(topic_name):\n",
        "            break\n",
        "        if topic_name not in topics_by_cluster[cluster_label]:\n",
        "            topics_by_cluster[cluster_label].append(topic_name)\n",
        "\n",
        "# Create a dropdown using Gradio\n",
        "cluster_dropdown = gr.Dropdown(choices=list(topics_by_cluster.keys()), label=\"Cluster Label\")\n",
        "\n",
        "# Define a function to display the assigned topic names for a selected cluster label\n",
        "def update_topics(cluster_label):\n",
        "    assigned_topics = get_topics(cluster_label)\n",
        "    if len(assigned_topics) == 0:\n",
        "        topic_string = \"No topics assigned to this cluster label.\"\n",
        "    else:\n",
        "        topic_string = \"\\n\".join(assigned_topics)\n",
        "    return topic_string\n",
        "\n",
        "# Define a function to return the assigned topic names for a given cluster label\n",
        "def get_topics(cluster_label):\n",
        "    if cluster_label in topics_by_cluster:\n",
        "        return topics_by_cluster[cluster_label]\n",
        "    else:\n",
        "        return []\n",
        "\n",
        "# Update the assigned topic names when the cluster dropdown value changes\n",
        "gr.Interface(update_topics, cluster_dropdown, \"text\").launch()"
      ],
      "metadata": {
        "colab": {
          "base_uri": "https://localhost:8080/",
          "height": 645
        },
        "id": "_cvBg7fK7l_b",
        "outputId": "1a8721c8-0ed8-4f14-f867-db39e10e47aa"
      },
      "execution_count": 6,
      "outputs": [
        {
          "output_type": "stream",
          "name": "stdout",
          "text": [
            "Setting queue=True in a Colab notebook requires sharing enabled. Setting `share=True` (you can turn this off by setting `share=False` in `launch()` explicitly).\n",
            "\n",
            "Colab notebook detected. To show errors in colab notebook, set debug=True in launch()\n",
            "Running on public URL: https://718a15ea7b900631a5.gradio.live\n",
            "\n",
            "This share link expires in 72 hours. For free permanent hosting and GPU upgrades, run `gradio deploy` from Terminal to deploy to Spaces (https://huggingface.co/spaces)\n"
          ]
        },
        {
          "output_type": "display_data",
          "data": {
            "text/plain": [
              "<IPython.core.display.HTML object>"
            ],
            "text/html": [
              "<div><iframe src=\"https://718a15ea7b900631a5.gradio.live\" width=\"100%\" height=\"500\" allow=\"autoplay; camera; microphone; clipboard-read; clipboard-write;\" frameborder=\"0\" allowfullscreen></iframe></div>"
            ]
          },
          "metadata": {}
        },
        {
          "output_type": "execute_result",
          "data": {
            "text/plain": []
          },
          "metadata": {},
          "execution_count": 6
        }
      ]
    },
    {
      "cell_type": "markdown",
      "source": [
        "Apologies for the confusion. You are correct that Gradio does not currently provide a built-in mechanism to dynamically update dropdown choices based on the selection of another dropdown.\n",
        "\n",
        "To work around this limitation, you can create a custom HTML/JavaScript interface using the gradio.Interface.layout attribute. Here's an example:"
      ],
      "metadata": {
        "id": "1XOIz9P4-_Qw"
      }
    },
    {
      "cell_type": "markdown",
      "source": [
        "## MY Final Code"
      ],
      "metadata": {
        "id": "z__u_sE6Fa_r"
      }
    },
    {
      "cell_type": "code",
      "source": [
        "import pandas as pd\n",
        "from vaderSentiment.vaderSentiment import SentimentIntensityAnalyzer\n",
        "import matplotlib.pyplot as plt\n",
        "import gradio as gr\n",
        "\n",
        "# Read the CSV file containing the cluster information\n",
        "cluster_info = pd.read_csv(\"/content/cluster_topics_Pediatric.csv\", header=None)\n",
        "cluster_labels = cluster_info.iloc[0, :].tolist()\n",
        "cluster_info = cluster_info.iloc[1:, :]\n",
        "\n",
        "# Read the final topic names from the CSV file and drop rows with NaN values\n",
        "final_topic_names = pd.read_csv(\"/content/final_topics_name_120.csv\").dropna()\n",
        "\n",
        "# Read the Excel sheet with tweets for each topic\n",
        "tweets_by_topic = pd.read_excel(\"/content/tweets_by_topics_120.xlsx\", sheet_name=None)\n",
        "\n",
        "# Create dropdown menus for cluster and topic selection\n",
        "cluster_dropdown = widgets.Dropdown(options=cluster_labels, description=\"Select Cluster\")\n",
        "topic_dropdown = widgets.Dropdown(description=\"Select Topic\")\n",
        "\n",
        "def update_topic_options(change):\n",
        "    selected_cluster = change.new\n",
        "    # Get the column index of the selected cluster\n",
        "    cluster_index = cluster_labels.index(selected_cluster)\n",
        "    # Get the topic names for the selected cluster\n",
        "    topics = cluster_info.iloc[:, cluster_index].dropna().tolist()\n",
        "    topic_dropdown.options = topics\n",
        "\n",
        "cluster_dropdown.observe(update_topic_options, 'value')\n",
        "\n",
        "output = widgets.Output()\n",
        "\n",
        "def on_button_clicked(b):\n",
        "    with output:\n",
        "        output.clear_output()\n",
        "        selected_cluster = cluster_dropdown.value\n",
        "        selected_topic = topic_dropdown.value\n",
        "\n",
        "        # Find the topic name in the final topic names CSV\n",
        "        topic_index = final_topic_names[final_topic_names[\"Topic_Name\"] == selected_topic].index[0]\n",
        "\n",
        "        # Get the corresponding sheet name\n",
        "        sheet_name = f\"Topic_{topic_index}\"\n",
        "\n",
        "        # Get the tweets for the selected topic from the Excel sheet\n",
        "        tweets = tweets_by_topic[sheet_name]\n",
        "\n",
        "        # Perform sentiment analysis on the tweets\n",
        "        analyzer = SentimentIntensityAnalyzer()\n",
        "        sentiment_scores = tweets[\"text\"].apply(lambda x: analyzer.polarity_scores(x)['compound'])\n",
        "\n",
        "        # Count the sentiments\n",
        "        positive_count = len([score for score in sentiment_scores if score > 0])\n",
        "        negative_count = len([score for score in sentiment_scores if score < 0])\n",
        "        neutral_count = len([score for score in sentiment_scores if score == 0])\n",
        "\n",
        "        # Plot the bar chart\n",
        "        plt.figure(figsize=(5, 4))\n",
        "        bar_positions = [1, 2, 3]\n",
        "        bar_heights = [positive_count, negative_count, neutral_count]\n",
        "        bar_labels = ['Positive', 'Negative', 'Neutral']\n",
        "        bar_colors = ['green', 'red', 'blue']\n",
        "        plt.bar(bar_positions, bar_heights, tick_label=bar_labels, color=bar_colors)\n",
        "        for i, height in enumerate(bar_heights):\n",
        "            plt.text(bar_positions[i], height, str(height), ha='center', va='bottom')\n",
        "        plt.xlabel('Sentiment')\n",
        "        plt.ylabel('Tweet Count')\n",
        "        plt.title(f'Sentiment Analysis - {selected_cluster} - {selected_topic}')\n",
        "\n",
        "        # Display the plot\n",
        "        plt.show()\n",
        "\n",
        "button = widgets.Button(description=\"Submit\")\n",
        "button.on_click(on_button_clicked)\n",
        "\n",
        "display(cluster_dropdown)\n",
        "display(topic_dropdown)\n",
        "display(button)\n",
        "display(output)\n"
      ],
      "metadata": {
        "colab": {
          "base_uri": "https://localhost:8080/",
          "height": 504,
          "referenced_widgets": [
            "f2a7055d72c241e99559788d71c2e14f",
            "4d2e0e8a3e6c4b88ba8b4d61a5abb4be",
            "9d25ccf50a604bae9a1bf131beaaa2c1",
            "91b3ea9984e046e6bb441636129769b0",
            "af8fb9ccdf984fa69c85a49501f7960d",
            "a6ad0bc55ce04a17bc2fb2a3b2d6df3b",
            "6e509f18f3ed47a39a033545a781dba2",
            "45f655aaaa794d0989c241b0cd84a4b8",
            "244c481de51e4c8d94792c8242981108",
            "18f4fbd0c69347848ccfc6c4efadba56",
            "539e31e1e325409aa03893dd34ba4228"
          ]
        },
        "id": "Z1tuWBrlFN-Z",
        "outputId": "604d7278-2fe1-43fd-8302-f266bad64fb0"
      },
      "execution_count": 9,
      "outputs": [
        {
          "output_type": "display_data",
          "data": {
            "text/plain": [
              "Dropdown(description='Select Cluster', options=('Vaccine Concerns', 'Maternal and Child Health', 'Pediatric CO…"
            ],
            "application/vnd.jupyter.widget-view+json": {
              "version_major": 2,
              "version_minor": 0,
              "model_id": "f2a7055d72c241e99559788d71c2e14f"
            }
          },
          "metadata": {}
        },
        {
          "output_type": "display_data",
          "data": {
            "text/plain": [
              "Dropdown(description='Select Topic', options=(), value=None)"
            ],
            "application/vnd.jupyter.widget-view+json": {
              "version_major": 2,
              "version_minor": 0,
              "model_id": "91b3ea9984e046e6bb441636129769b0"
            }
          },
          "metadata": {}
        },
        {
          "output_type": "display_data",
          "data": {
            "text/plain": [
              "Button(description='Submit', style=ButtonStyle())"
            ],
            "application/vnd.jupyter.widget-view+json": {
              "version_major": 2,
              "version_minor": 0,
              "model_id": "6e509f18f3ed47a39a033545a781dba2"
            }
          },
          "metadata": {}
        },
        {
          "output_type": "display_data",
          "data": {
            "text/plain": [
              "Output()"
            ],
            "application/vnd.jupyter.widget-view+json": {
              "version_major": 2,
              "version_minor": 0,
              "model_id": "18f4fbd0c69347848ccfc6c4efadba56"
            }
          },
          "metadata": {}
        }
      ]
    },
    {
      "cell_type": "code",
      "source": [
        "import ipywidgets as widgets"
      ],
      "metadata": {
        "id": "XKm4hrHg9kHe"
      },
      "execution_count": 4,
      "outputs": []
    },
    {
      "cell_type": "markdown",
      "source": [
        "Apologies for the confusion. You are correct that Gradio doesn't provide a built-in mechanism to dynamically update dropdown options based on a selection."
      ],
      "metadata": {
        "id": "VxbjKV_caDd4"
      }
    },
    {
      "cell_type": "markdown",
      "source": [
        "It seems that Gradio may not be the best fit for dynamically updating dropdown options based on the selected cluster. In this case, using widgets or other interactive frameworks like Dash or Streamlit may be more suitable."
      ],
      "metadata": {
        "id": "fMdlVOeXau_d"
      }
    }
  ]
}