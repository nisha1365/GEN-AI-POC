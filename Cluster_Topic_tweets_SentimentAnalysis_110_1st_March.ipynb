{
  "nbformat": 4,
  "nbformat_minor": 0,
  "metadata": {
    "colab": {
      "provenance": [],
      "include_colab_link": true
    },
    "kernelspec": {
      "name": "python3",
      "display_name": "Python 3"
    },
    "language_info": {
      "name": "python"
    },
    "widgets": {
      "application/vnd.jupyter.widget-state+json": {
        "ab240f7aea434841b31379017da052ff": {
          "model_module": "@jupyter-widgets/controls",
          "model_name": "DropdownModel",
          "model_module_version": "1.5.0",
          "state": {
            "_dom_classes": [],
            "_model_module": "@jupyter-widgets/controls",
            "_model_module_version": "1.5.0",
            "_model_name": "DropdownModel",
            "_options_labels": [
              "epidemiology",
              "awareness_1",
              "dummy1",
              "dummy2",
              "dummy3",
              "dummy4",
              "awareness_2",
              "awareness_3"
            ],
            "_view_count": null,
            "_view_module": "@jupyter-widgets/controls",
            "_view_module_version": "1.5.0",
            "_view_name": "DropdownView",
            "description": "Select Cluster",
            "description_tooltip": null,
            "disabled": false,
            "index": 7,
            "layout": "IPY_MODEL_9e44035c68064d5db9b8e0f5176f4aad",
            "style": "IPY_MODEL_637ff7c835ce4cc3ab048e4030745a88"
          }
        },
        "9e44035c68064d5db9b8e0f5176f4aad": {
          "model_module": "@jupyter-widgets/base",
          "model_name": "LayoutModel",
          "model_module_version": "1.2.0",
          "state": {
            "_model_module": "@jupyter-widgets/base",
            "_model_module_version": "1.2.0",
            "_model_name": "LayoutModel",
            "_view_count": null,
            "_view_module": "@jupyter-widgets/base",
            "_view_module_version": "1.2.0",
            "_view_name": "LayoutView",
            "align_content": null,
            "align_items": null,
            "align_self": null,
            "border": null,
            "bottom": null,
            "display": null,
            "flex": null,
            "flex_flow": null,
            "grid_area": null,
            "grid_auto_columns": null,
            "grid_auto_flow": null,
            "grid_auto_rows": null,
            "grid_column": null,
            "grid_gap": null,
            "grid_row": null,
            "grid_template_areas": null,
            "grid_template_columns": null,
            "grid_template_rows": null,
            "height": null,
            "justify_content": null,
            "justify_items": null,
            "left": null,
            "margin": null,
            "max_height": null,
            "max_width": null,
            "min_height": null,
            "min_width": null,
            "object_fit": null,
            "object_position": null,
            "order": null,
            "overflow": null,
            "overflow_x": null,
            "overflow_y": null,
            "padding": null,
            "right": null,
            "top": null,
            "visibility": null,
            "width": null
          }
        },
        "637ff7c835ce4cc3ab048e4030745a88": {
          "model_module": "@jupyter-widgets/controls",
          "model_name": "DescriptionStyleModel",
          "model_module_version": "1.5.0",
          "state": {
            "_model_module": "@jupyter-widgets/controls",
            "_model_module_version": "1.5.0",
            "_model_name": "DescriptionStyleModel",
            "_view_count": null,
            "_view_module": "@jupyter-widgets/base",
            "_view_module_version": "1.2.0",
            "_view_name": "StyleView",
            "description_width": ""
          }
        },
        "12687a5453124a1fbb8ef6be7763ec83": {
          "model_module": "@jupyter-widgets/controls",
          "model_name": "DropdownModel",
          "model_module_version": "1.5.0",
          "state": {
            "_dom_classes": [],
            "_model_module": "@jupyter-widgets/controls",
            "_model_module_version": "1.5.0",
            "_model_name": "DropdownModel",
            "_options_labels": [
              "Autism and Vaccination",
              "Routine Childhood Vaccination Safety",
              "Malaria Vaccination for Children in Cameroon",
              "Child Vaccination Mandates",
              "Child Vaccination in Gaza",
              "Flu Vaccination for Young Children",
              "Hypervaccination and Childhood Developmental Disorders",
              "Government Intervention in Child Vaccination",
              "Child COVID-19 Vaccination Mandates in Brazil",
              "Unlawful Vaccination Requirements",
              "Aluminum in Childhood Vaccines",
              "Student Vaccination Clinics",
              "Pediatric Novavax Vaccination",
              "Pneumonia Vaccination for Children",
              "Vaccination Registry in South Carolina",
              "Infant Circumcision",
              "Infant Vaccination Investigation",
              "Child Vaccination Safety",
              "Forced Child Vaccination",
              "Bill Gates on Child Vaccination",
              "NHS Vaccination Programme",
              "Vaccination and Chronic Disease in Children",
              "Undocumented Immigrant Child Vaccination",
              "Infant Vaccination Deaths in Philippines"
            ],
            "_view_count": null,
            "_view_module": "@jupyter-widgets/controls",
            "_view_module_version": "1.5.0",
            "_view_name": "DropdownView",
            "description": "Select Topic",
            "description_tooltip": null,
            "disabled": false,
            "index": 23,
            "layout": "IPY_MODEL_99f24031649c43ff9aafe94c92171eeb",
            "style": "IPY_MODEL_5372bb047c004f629b6f5ed14e7dcd49"
          }
        },
        "99f24031649c43ff9aafe94c92171eeb": {
          "model_module": "@jupyter-widgets/base",
          "model_name": "LayoutModel",
          "model_module_version": "1.2.0",
          "state": {
            "_model_module": "@jupyter-widgets/base",
            "_model_module_version": "1.2.0",
            "_model_name": "LayoutModel",
            "_view_count": null,
            "_view_module": "@jupyter-widgets/base",
            "_view_module_version": "1.2.0",
            "_view_name": "LayoutView",
            "align_content": null,
            "align_items": null,
            "align_self": null,
            "border": null,
            "bottom": null,
            "display": null,
            "flex": null,
            "flex_flow": null,
            "grid_area": null,
            "grid_auto_columns": null,
            "grid_auto_flow": null,
            "grid_auto_rows": null,
            "grid_column": null,
            "grid_gap": null,
            "grid_row": null,
            "grid_template_areas": null,
            "grid_template_columns": null,
            "grid_template_rows": null,
            "height": null,
            "justify_content": null,
            "justify_items": null,
            "left": null,
            "margin": null,
            "max_height": null,
            "max_width": null,
            "min_height": null,
            "min_width": null,
            "object_fit": null,
            "object_position": null,
            "order": null,
            "overflow": null,
            "overflow_x": null,
            "overflow_y": null,
            "padding": null,
            "right": null,
            "top": null,
            "visibility": null,
            "width": null
          }
        },
        "5372bb047c004f629b6f5ed14e7dcd49": {
          "model_module": "@jupyter-widgets/controls",
          "model_name": "DescriptionStyleModel",
          "model_module_version": "1.5.0",
          "state": {
            "_model_module": "@jupyter-widgets/controls",
            "_model_module_version": "1.5.0",
            "_model_name": "DescriptionStyleModel",
            "_view_count": null,
            "_view_module": "@jupyter-widgets/base",
            "_view_module_version": "1.2.0",
            "_view_name": "StyleView",
            "description_width": ""
          }
        },
        "7c04fc13ae2b4cb689349acd509155e0": {
          "model_module": "@jupyter-widgets/controls",
          "model_name": "ButtonModel",
          "model_module_version": "1.5.0",
          "state": {
            "_dom_classes": [],
            "_model_module": "@jupyter-widgets/controls",
            "_model_module_version": "1.5.0",
            "_model_name": "ButtonModel",
            "_view_count": null,
            "_view_module": "@jupyter-widgets/controls",
            "_view_module_version": "1.5.0",
            "_view_name": "ButtonView",
            "button_style": "",
            "description": "Submit",
            "disabled": false,
            "icon": "",
            "layout": "IPY_MODEL_017d1eb618bb4cd6925a5099f2e2472c",
            "style": "IPY_MODEL_d3385187d47f4537844e4cb9e615f416",
            "tooltip": ""
          }
        },
        "017d1eb618bb4cd6925a5099f2e2472c": {
          "model_module": "@jupyter-widgets/base",
          "model_name": "LayoutModel",
          "model_module_version": "1.2.0",
          "state": {
            "_model_module": "@jupyter-widgets/base",
            "_model_module_version": "1.2.0",
            "_model_name": "LayoutModel",
            "_view_count": null,
            "_view_module": "@jupyter-widgets/base",
            "_view_module_version": "1.2.0",
            "_view_name": "LayoutView",
            "align_content": null,
            "align_items": null,
            "align_self": null,
            "border": null,
            "bottom": null,
            "display": null,
            "flex": null,
            "flex_flow": null,
            "grid_area": null,
            "grid_auto_columns": null,
            "grid_auto_flow": null,
            "grid_auto_rows": null,
            "grid_column": null,
            "grid_gap": null,
            "grid_row": null,
            "grid_template_areas": null,
            "grid_template_columns": null,
            "grid_template_rows": null,
            "height": null,
            "justify_content": null,
            "justify_items": null,
            "left": null,
            "margin": null,
            "max_height": null,
            "max_width": null,
            "min_height": null,
            "min_width": null,
            "object_fit": null,
            "object_position": null,
            "order": null,
            "overflow": null,
            "overflow_x": null,
            "overflow_y": null,
            "padding": null,
            "right": null,
            "top": null,
            "visibility": null,
            "width": null
          }
        },
        "d3385187d47f4537844e4cb9e615f416": {
          "model_module": "@jupyter-widgets/controls",
          "model_name": "ButtonStyleModel",
          "model_module_version": "1.5.0",
          "state": {
            "_model_module": "@jupyter-widgets/controls",
            "_model_module_version": "1.5.0",
            "_model_name": "ButtonStyleModel",
            "_view_count": null,
            "_view_module": "@jupyter-widgets/base",
            "_view_module_version": "1.2.0",
            "_view_name": "StyleView",
            "button_color": null,
            "font_weight": ""
          }
        },
        "f31baad3c7024558bf3aa977b248783c": {
          "model_module": "@jupyter-widgets/output",
          "model_name": "OutputModel",
          "model_module_version": "1.0.0",
          "state": {
            "_dom_classes": [],
            "_model_module": "@jupyter-widgets/output",
            "_model_module_version": "1.0.0",
            "_model_name": "OutputModel",
            "_view_count": null,
            "_view_module": "@jupyter-widgets/output",
            "_view_module_version": "1.0.0",
            "_view_name": "OutputView",
            "layout": "IPY_MODEL_790cefdbe665470f943d341340b90ba9",
            "msg_id": "",
            "outputs": [
              {
                "output_type": "display_data",
                "data": {
                  "text/plain": "<Figure size 500x300 with 1 Axes>",
                  "image/png": "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\n"
                },
                "metadata": {}
              }
            ]
          }
        },
        "790cefdbe665470f943d341340b90ba9": {
          "model_module": "@jupyter-widgets/base",
          "model_name": "LayoutModel",
          "model_module_version": "1.2.0",
          "state": {
            "_model_module": "@jupyter-widgets/base",
            "_model_module_version": "1.2.0",
            "_model_name": "LayoutModel",
            "_view_count": null,
            "_view_module": "@jupyter-widgets/base",
            "_view_module_version": "1.2.0",
            "_view_name": "LayoutView",
            "align_content": null,
            "align_items": null,
            "align_self": null,
            "border": null,
            "bottom": null,
            "display": null,
            "flex": null,
            "flex_flow": null,
            "grid_area": null,
            "grid_auto_columns": null,
            "grid_auto_flow": null,
            "grid_auto_rows": null,
            "grid_column": null,
            "grid_gap": null,
            "grid_row": null,
            "grid_template_areas": null,
            "grid_template_columns": null,
            "grid_template_rows": null,
            "height": null,
            "justify_content": null,
            "justify_items": null,
            "left": null,
            "margin": null,
            "max_height": null,
            "max_width": null,
            "min_height": null,
            "min_width": null,
            "object_fit": null,
            "object_position": null,
            "order": null,
            "overflow": null,
            "overflow_x": null,
            "overflow_y": null,
            "padding": null,
            "right": null,
            "top": null,
            "visibility": null,
            "width": null
          }
        }
      }
    }
  },
  "cells": [
    {
      "cell_type": "markdown",
      "metadata": {
        "id": "view-in-github",
        "colab_type": "text"
      },
      "source": [
        "<a href=\"https://colab.research.google.com/github/nisha1365/GEN-AI-POC/blob/main/Cluster_Topic_tweets_SentimentAnalysis_110_1st_March.ipynb\" target=\"_parent\"><img src=\"https://colab.research.google.com/assets/colab-badge.svg\" alt=\"Open In Colab\"/></a>"
      ]
    },
    {
      "cell_type": "code",
      "source": [
        "!pip install xlsxwriter"
      ],
      "metadata": {
        "id": "G2p7lgIG419t",
        "colab": {
          "base_uri": "https://localhost:8080/"
        },
        "outputId": "00a69243-a75f-45dc-d67d-f1edcfbb6cf7"
      },
      "execution_count": 1,
      "outputs": [
        {
          "output_type": "stream",
          "name": "stdout",
          "text": [
            "Collecting xlsxwriter\n",
            "  Downloading XlsxWriter-3.2.0-py3-none-any.whl (159 kB)\n",
            "\u001b[?25l     \u001b[90m━━━━━━━━━━━━━━━━━━━━━━━━━━━━━━━━━━━━━━━━\u001b[0m \u001b[32m0.0/159.9 kB\u001b[0m \u001b[31m?\u001b[0m eta \u001b[36m-:--:--\u001b[0m\r\u001b[2K     \u001b[91m━━━━━━━━━━━━━━━\u001b[0m\u001b[90m╺\u001b[0m\u001b[90m━━━━━━━━━━━━━━━━━━━━━━━━\u001b[0m \u001b[32m61.4/159.9 kB\u001b[0m \u001b[31m1.7 MB/s\u001b[0m eta \u001b[36m0:00:01\u001b[0m\r\u001b[2K     \u001b[90m━━━━━━━━━━━━━━━━━━━━━━━━━━━━━━━━━━━━━━━━\u001b[0m \u001b[32m159.9/159.9 kB\u001b[0m \u001b[31m2.8 MB/s\u001b[0m eta \u001b[36m0:00:00\u001b[0m\n",
            "\u001b[?25hInstalling collected packages: xlsxwriter\n",
            "Successfully installed xlsxwriter-3.2.0\n"
          ]
        }
      ]
    },
    {
      "cell_type": "code",
      "source": [
        "!pip install vaderSentiment"
      ],
      "metadata": {
        "id": "JjNOleMLLbYJ",
        "colab": {
          "base_uri": "https://localhost:8080/"
        },
        "outputId": "3001ff57-35fc-46a0-a5ca-5d9403b33020"
      },
      "execution_count": 2,
      "outputs": [
        {
          "output_type": "stream",
          "name": "stdout",
          "text": [
            "Collecting vaderSentiment\n",
            "  Downloading vaderSentiment-3.3.2-py2.py3-none-any.whl (125 kB)\n",
            "\u001b[?25l     \u001b[90m━━━━━━━━━━━━━━━━━━━━━━━━━━━━━━━━━━━━━━━━\u001b[0m \u001b[32m0.0/126.0 kB\u001b[0m \u001b[31m?\u001b[0m eta \u001b[36m-:--:--\u001b[0m\r\u001b[2K     \u001b[90m━━━━━━━━━━━━━━━━━━━━━━━━━━━━━━━━━━━━━━━━\u001b[0m \u001b[32m126.0/126.0 kB\u001b[0m \u001b[31m3.8 MB/s\u001b[0m eta \u001b[36m0:00:00\u001b[0m\n",
            "\u001b[?25hRequirement already satisfied: requests in /usr/local/lib/python3.10/dist-packages (from vaderSentiment) (2.31.0)\n",
            "Requirement already satisfied: charset-normalizer<4,>=2 in /usr/local/lib/python3.10/dist-packages (from requests->vaderSentiment) (3.3.2)\n",
            "Requirement already satisfied: idna<4,>=2.5 in /usr/local/lib/python3.10/dist-packages (from requests->vaderSentiment) (3.6)\n",
            "Requirement already satisfied: urllib3<3,>=1.21.1 in /usr/local/lib/python3.10/dist-packages (from requests->vaderSentiment) (2.0.7)\n",
            "Requirement already satisfied: certifi>=2017.4.17 in /usr/local/lib/python3.10/dist-packages (from requests->vaderSentiment) (2024.2.2)\n",
            "Installing collected packages: vaderSentiment\n",
            "Successfully installed vaderSentiment-3.3.2\n"
          ]
        }
      ]
    },
    {
      "cell_type": "code",
      "source": [
        "!pip install gradio"
      ],
      "metadata": {
        "id": "ax4TnprkLnst",
        "colab": {
          "base_uri": "https://localhost:8080/"
        },
        "outputId": "ef116b7b-6b86-413b-b374-f8d375250435"
      },
      "execution_count": 3,
      "outputs": [
        {
          "output_type": "stream",
          "name": "stdout",
          "text": [
            "Collecting gradio\n",
            "  Downloading gradio-4.19.2-py3-none-any.whl (16.9 MB)\n",
            "\u001b[2K     \u001b[90m━━━━━━━━━━━━━━━━━━━━━━━━━━━━━━━━━━━━━━━━\u001b[0m \u001b[32m16.9/16.9 MB\u001b[0m \u001b[31m64.1 MB/s\u001b[0m eta \u001b[36m0:00:00\u001b[0m\n",
            "\u001b[?25hCollecting aiofiles<24.0,>=22.0 (from gradio)\n",
            "  Downloading aiofiles-23.2.1-py3-none-any.whl (15 kB)\n",
            "Requirement already satisfied: altair<6.0,>=4.2.0 in /usr/local/lib/python3.10/dist-packages (from gradio) (4.2.2)\n",
            "Collecting fastapi (from gradio)\n",
            "  Downloading fastapi-0.110.0-py3-none-any.whl (92 kB)\n",
            "\u001b[2K     \u001b[90m━━━━━━━━━━━━━━━━━━━━━━━━━━━━━━━━━━━━━━━━\u001b[0m \u001b[32m92.1/92.1 kB\u001b[0m \u001b[31m13.0 MB/s\u001b[0m eta \u001b[36m0:00:00\u001b[0m\n",
            "\u001b[?25hCollecting ffmpy (from gradio)\n",
            "  Downloading ffmpy-0.3.2.tar.gz (5.5 kB)\n",
            "  Preparing metadata (setup.py) ... \u001b[?25l\u001b[?25hdone\n",
            "Collecting gradio-client==0.10.1 (from gradio)\n",
            "  Downloading gradio_client-0.10.1-py3-none-any.whl (307 kB)\n",
            "\u001b[2K     \u001b[90m━━━━━━━━━━━━━━━━━━━━━━━━━━━━━━━━━━━━━━━━\u001b[0m \u001b[32m307.9/307.9 kB\u001b[0m \u001b[31m37.3 MB/s\u001b[0m eta \u001b[36m0:00:00\u001b[0m\n",
            "\u001b[?25hCollecting httpx>=0.24.1 (from gradio)\n",
            "  Downloading httpx-0.27.0-py3-none-any.whl (75 kB)\n",
            "\u001b[2K     \u001b[90m━━━━━━━━━━━━━━━━━━━━━━━━━━━━━━━━━━━━━━━━\u001b[0m \u001b[32m75.6/75.6 kB\u001b[0m \u001b[31m12.1 MB/s\u001b[0m eta \u001b[36m0:00:00\u001b[0m\n",
            "\u001b[?25hRequirement already satisfied: huggingface-hub>=0.19.3 in /usr/local/lib/python3.10/dist-packages (from gradio) (0.20.3)\n",
            "Requirement already satisfied: importlib-resources<7.0,>=1.3 in /usr/local/lib/python3.10/dist-packages (from gradio) (6.1.2)\n",
            "Requirement already satisfied: jinja2<4.0 in /usr/local/lib/python3.10/dist-packages (from gradio) (3.1.3)\n",
            "Requirement already satisfied: markupsafe~=2.0 in /usr/local/lib/python3.10/dist-packages (from gradio) (2.1.5)\n",
            "Requirement already satisfied: matplotlib~=3.0 in /usr/local/lib/python3.10/dist-packages (from gradio) (3.7.1)\n",
            "Requirement already satisfied: numpy~=1.0 in /usr/local/lib/python3.10/dist-packages (from gradio) (1.25.2)\n",
            "Collecting orjson~=3.0 (from gradio)\n",
            "  Downloading orjson-3.9.15-cp310-cp310-manylinux_2_17_x86_64.manylinux2014_x86_64.whl (138 kB)\n",
            "\u001b[2K     \u001b[90m━━━━━━━━━━━━━━━━━━━━━━━━━━━━━━━━━━━━━━━━\u001b[0m \u001b[32m138.5/138.5 kB\u001b[0m \u001b[31m19.6 MB/s\u001b[0m eta \u001b[36m0:00:00\u001b[0m\n",
            "\u001b[?25hRequirement already satisfied: packaging in /usr/local/lib/python3.10/dist-packages (from gradio) (23.2)\n",
            "Requirement already satisfied: pandas<3.0,>=1.0 in /usr/local/lib/python3.10/dist-packages (from gradio) (1.5.3)\n",
            "Requirement already satisfied: pillow<11.0,>=8.0 in /usr/local/lib/python3.10/dist-packages (from gradio) (9.4.0)\n",
            "Requirement already satisfied: pydantic>=2.0 in /usr/local/lib/python3.10/dist-packages (from gradio) (2.6.3)\n",
            "Collecting pydub (from gradio)\n",
            "  Downloading pydub-0.25.1-py2.py3-none-any.whl (32 kB)\n",
            "Collecting python-multipart>=0.0.9 (from gradio)\n",
            "  Downloading python_multipart-0.0.9-py3-none-any.whl (22 kB)\n",
            "Requirement already satisfied: pyyaml<7.0,>=5.0 in /usr/local/lib/python3.10/dist-packages (from gradio) (6.0.1)\n",
            "Collecting ruff>=0.2.2 (from gradio)\n",
            "  Downloading ruff-0.3.0-py3-none-manylinux_2_17_x86_64.manylinux2014_x86_64.whl (7.8 MB)\n",
            "\u001b[2K     \u001b[90m━━━━━━━━━━━━━━━━━━━━━━━━━━━━━━━━━━━━━━━━\u001b[0m \u001b[32m7.8/7.8 MB\u001b[0m \u001b[31m86.6 MB/s\u001b[0m eta \u001b[36m0:00:00\u001b[0m\n",
            "\u001b[?25hCollecting semantic-version~=2.0 (from gradio)\n",
            "  Downloading semantic_version-2.10.0-py2.py3-none-any.whl (15 kB)\n",
            "Collecting tomlkit==0.12.0 (from gradio)\n",
            "  Downloading tomlkit-0.12.0-py3-none-any.whl (37 kB)\n",
            "Requirement already satisfied: typer[all]<1.0,>=0.9 in /usr/local/lib/python3.10/dist-packages (from gradio) (0.9.0)\n",
            "Requirement already satisfied: typing-extensions~=4.0 in /usr/local/lib/python3.10/dist-packages (from gradio) (4.10.0)\n",
            "Collecting uvicorn>=0.14.0 (from gradio)\n",
            "  Downloading uvicorn-0.27.1-py3-none-any.whl (60 kB)\n",
            "\u001b[2K     \u001b[90m━━━━━━━━━━━━━━━━━━━━━━━━━━━━━━━━━━━━━━━━\u001b[0m \u001b[32m60.8/60.8 kB\u001b[0m \u001b[31m8.9 MB/s\u001b[0m eta \u001b[36m0:00:00\u001b[0m\n",
            "\u001b[?25hRequirement already satisfied: fsspec in /usr/local/lib/python3.10/dist-packages (from gradio-client==0.10.1->gradio) (2023.6.0)\n",
            "Collecting websockets<12.0,>=10.0 (from gradio-client==0.10.1->gradio)\n",
            "  Downloading websockets-11.0.3-cp310-cp310-manylinux_2_5_x86_64.manylinux1_x86_64.manylinux_2_17_x86_64.manylinux2014_x86_64.whl (129 kB)\n",
            "\u001b[2K     \u001b[90m━━━━━━━━━━━━━━━━━━━━━━━━━━━━━━━━━━━━━━━━\u001b[0m \u001b[32m129.9/129.9 kB\u001b[0m \u001b[31m19.1 MB/s\u001b[0m eta \u001b[36m0:00:00\u001b[0m\n",
            "\u001b[?25hRequirement already satisfied: entrypoints in /usr/local/lib/python3.10/dist-packages (from altair<6.0,>=4.2.0->gradio) (0.4)\n",
            "Requirement already satisfied: jsonschema>=3.0 in /usr/local/lib/python3.10/dist-packages (from altair<6.0,>=4.2.0->gradio) (4.19.2)\n",
            "Requirement already satisfied: toolz in /usr/local/lib/python3.10/dist-packages (from altair<6.0,>=4.2.0->gradio) (0.12.1)\n",
            "Requirement already satisfied: anyio in /usr/local/lib/python3.10/dist-packages (from httpx>=0.24.1->gradio) (3.7.1)\n",
            "Requirement already satisfied: certifi in /usr/local/lib/python3.10/dist-packages (from httpx>=0.24.1->gradio) (2024.2.2)\n",
            "Collecting httpcore==1.* (from httpx>=0.24.1->gradio)\n",
            "  Downloading httpcore-1.0.4-py3-none-any.whl (77 kB)\n",
            "\u001b[2K     \u001b[90m━━━━━━━━━━━━━━━━━━━━━━━━━━━━━━━━━━━━━━━━\u001b[0m \u001b[32m77.8/77.8 kB\u001b[0m \u001b[31m10.8 MB/s\u001b[0m eta \u001b[36m0:00:00\u001b[0m\n",
            "\u001b[?25hRequirement already satisfied: idna in /usr/local/lib/python3.10/dist-packages (from httpx>=0.24.1->gradio) (3.6)\n",
            "Requirement already satisfied: sniffio in /usr/local/lib/python3.10/dist-packages (from httpx>=0.24.1->gradio) (1.3.1)\n",
            "Collecting h11<0.15,>=0.13 (from httpcore==1.*->httpx>=0.24.1->gradio)\n",
            "  Downloading h11-0.14.0-py3-none-any.whl (58 kB)\n",
            "\u001b[2K     \u001b[90m━━━━━━━━━━━━━━━━━━━━━━━━━━━━━━━━━━━━━━━━\u001b[0m \u001b[32m58.3/58.3 kB\u001b[0m \u001b[31m8.6 MB/s\u001b[0m eta \u001b[36m0:00:00\u001b[0m\n",
            "\u001b[?25hRequirement already satisfied: filelock in /usr/local/lib/python3.10/dist-packages (from huggingface-hub>=0.19.3->gradio) (3.13.1)\n",
            "Requirement already satisfied: requests in /usr/local/lib/python3.10/dist-packages (from huggingface-hub>=0.19.3->gradio) (2.31.0)\n",
            "Requirement already satisfied: tqdm>=4.42.1 in /usr/local/lib/python3.10/dist-packages (from huggingface-hub>=0.19.3->gradio) (4.66.2)\n",
            "Requirement already satisfied: contourpy>=1.0.1 in /usr/local/lib/python3.10/dist-packages (from matplotlib~=3.0->gradio) (1.2.0)\n",
            "Requirement already satisfied: cycler>=0.10 in /usr/local/lib/python3.10/dist-packages (from matplotlib~=3.0->gradio) (0.12.1)\n",
            "Requirement already satisfied: fonttools>=4.22.0 in /usr/local/lib/python3.10/dist-packages (from matplotlib~=3.0->gradio) (4.49.0)\n",
            "Requirement already satisfied: kiwisolver>=1.0.1 in /usr/local/lib/python3.10/dist-packages (from matplotlib~=3.0->gradio) (1.4.5)\n",
            "Requirement already satisfied: pyparsing>=2.3.1 in /usr/local/lib/python3.10/dist-packages (from matplotlib~=3.0->gradio) (3.1.1)\n",
            "Requirement already satisfied: python-dateutil>=2.7 in /usr/local/lib/python3.10/dist-packages (from matplotlib~=3.0->gradio) (2.8.2)\n",
            "Requirement already satisfied: pytz>=2020.1 in /usr/local/lib/python3.10/dist-packages (from pandas<3.0,>=1.0->gradio) (2023.4)\n",
            "Requirement already satisfied: annotated-types>=0.4.0 in /usr/local/lib/python3.10/dist-packages (from pydantic>=2.0->gradio) (0.6.0)\n",
            "Requirement already satisfied: pydantic-core==2.16.3 in /usr/local/lib/python3.10/dist-packages (from pydantic>=2.0->gradio) (2.16.3)\n",
            "Requirement already satisfied: click<9.0.0,>=7.1.1 in /usr/local/lib/python3.10/dist-packages (from typer[all]<1.0,>=0.9->gradio) (8.1.7)\n",
            "Collecting colorama<0.5.0,>=0.4.3 (from typer[all]<1.0,>=0.9->gradio)\n",
            "  Downloading colorama-0.4.6-py2.py3-none-any.whl (25 kB)\n",
            "Collecting shellingham<2.0.0,>=1.3.0 (from typer[all]<1.0,>=0.9->gradio)\n",
            "  Downloading shellingham-1.5.4-py2.py3-none-any.whl (9.8 kB)\n",
            "Requirement already satisfied: rich<14.0.0,>=10.11.0 in /usr/local/lib/python3.10/dist-packages (from typer[all]<1.0,>=0.9->gradio) (13.7.0)\n",
            "Collecting starlette<0.37.0,>=0.36.3 (from fastapi->gradio)\n",
            "  Downloading starlette-0.36.3-py3-none-any.whl (71 kB)\n",
            "\u001b[2K     \u001b[90m━━━━━━━━━━━━━━━━━━━━━━━━━━━━━━━━━━━━━━━━\u001b[0m \u001b[32m71.5/71.5 kB\u001b[0m \u001b[31m10.9 MB/s\u001b[0m eta \u001b[36m0:00:00\u001b[0m\n",
            "\u001b[?25hRequirement already satisfied: attrs>=22.2.0 in /usr/local/lib/python3.10/dist-packages (from jsonschema>=3.0->altair<6.0,>=4.2.0->gradio) (23.2.0)\n",
            "Requirement already satisfied: jsonschema-specifications>=2023.03.6 in /usr/local/lib/python3.10/dist-packages (from jsonschema>=3.0->altair<6.0,>=4.2.0->gradio) (2023.12.1)\n",
            "Requirement already satisfied: referencing>=0.28.4 in /usr/local/lib/python3.10/dist-packages (from jsonschema>=3.0->altair<6.0,>=4.2.0->gradio) (0.33.0)\n",
            "Requirement already satisfied: rpds-py>=0.7.1 in /usr/local/lib/python3.10/dist-packages (from jsonschema>=3.0->altair<6.0,>=4.2.0->gradio) (0.18.0)\n",
            "Requirement already satisfied: six>=1.5 in /usr/local/lib/python3.10/dist-packages (from python-dateutil>=2.7->matplotlib~=3.0->gradio) (1.16.0)\n",
            "Requirement already satisfied: markdown-it-py>=2.2.0 in /usr/local/lib/python3.10/dist-packages (from rich<14.0.0,>=10.11.0->typer[all]<1.0,>=0.9->gradio) (3.0.0)\n",
            "Requirement already satisfied: pygments<3.0.0,>=2.13.0 in /usr/local/lib/python3.10/dist-packages (from rich<14.0.0,>=10.11.0->typer[all]<1.0,>=0.9->gradio) (2.16.1)\n",
            "Requirement already satisfied: exceptiongroup in /usr/local/lib/python3.10/dist-packages (from anyio->httpx>=0.24.1->gradio) (1.2.0)\n",
            "Requirement already satisfied: charset-normalizer<4,>=2 in /usr/local/lib/python3.10/dist-packages (from requests->huggingface-hub>=0.19.3->gradio) (3.3.2)\n",
            "Requirement already satisfied: urllib3<3,>=1.21.1 in /usr/local/lib/python3.10/dist-packages (from requests->huggingface-hub>=0.19.3->gradio) (2.0.7)\n",
            "Requirement already satisfied: mdurl~=0.1 in /usr/local/lib/python3.10/dist-packages (from markdown-it-py>=2.2.0->rich<14.0.0,>=10.11.0->typer[all]<1.0,>=0.9->gradio) (0.1.2)\n",
            "Building wheels for collected packages: ffmpy\n",
            "  Building wheel for ffmpy (setup.py) ... \u001b[?25l\u001b[?25hdone\n",
            "  Created wheel for ffmpy: filename=ffmpy-0.3.2-py3-none-any.whl size=5584 sha256=89cb2b63c8719e19ea67d27ccdf428d3be99138dd8875910b8304a8ef61f530d\n",
            "  Stored in directory: /root/.cache/pip/wheels/bd/65/9a/671fc6dcde07d4418df0c592f8df512b26d7a0029c2a23dd81\n",
            "Successfully built ffmpy\n",
            "Installing collected packages: pydub, ffmpy, websockets, tomlkit, shellingham, semantic-version, ruff, python-multipart, orjson, h11, colorama, aiofiles, uvicorn, starlette, httpcore, httpx, fastapi, gradio-client, gradio\n",
            "Successfully installed aiofiles-23.2.1 colorama-0.4.6 fastapi-0.110.0 ffmpy-0.3.2 gradio-4.19.2 gradio-client-0.10.1 h11-0.14.0 httpcore-1.0.4 httpx-0.27.0 orjson-3.9.15 pydub-0.25.1 python-multipart-0.0.9 ruff-0.3.0 semantic-version-2.10.0 shellingham-1.5.4 starlette-0.36.3 tomlkit-0.12.0 uvicorn-0.27.1 websockets-11.0.3\n"
          ]
        }
      ]
    },
    {
      "cell_type": "markdown",
      "source": [
        "Apologies for the confusion once again. Gradio does not have a built-in feature to dynamically update dropdown options based on user selection. However, you can achieve this using IPython HTML widgets. Here's an example of how you can implement it:"
      ],
      "metadata": {
        "id": "fSIbhra_9f6s"
      }
    },
    {
      "cell_type": "markdown",
      "source": [
        "## **TOPIC NAME - THEN IMAGE OUTPUT**"
      ],
      "metadata": {
        "id": "uOUv-m7JbgIx"
      }
    },
    {
      "cell_type": "code",
      "execution_count": 5,
      "metadata": {
        "colab": {
          "base_uri": "https://localhost:8080/",
          "height": 645
        },
        "id": "97VvIbWN2BFP",
        "outputId": "f59e7aa1-aa5d-44eb-eb99-68ad3c5a3dd1"
      },
      "outputs": [
        {
          "output_type": "stream",
          "name": "stdout",
          "text": [
            "Setting queue=True in a Colab notebook requires sharing enabled. Setting `share=True` (you can turn this off by setting `share=False` in `launch()` explicitly).\n",
            "\n",
            "Colab notebook detected. To show errors in colab notebook, set debug=True in launch()\n",
            "Running on public URL: https://a8357427ad7e7ef34f.gradio.live\n",
            "\n",
            "This share link expires in 72 hours. For free permanent hosting and GPU upgrades, run `gradio deploy` from Terminal to deploy to Spaces (https://huggingface.co/spaces)\n"
          ]
        },
        {
          "output_type": "display_data",
          "data": {
            "text/plain": [
              "<IPython.core.display.HTML object>"
            ],
            "text/html": [
              "<div><iframe src=\"https://a8357427ad7e7ef34f.gradio.live\" width=\"100%\" height=\"500\" allow=\"autoplay; camera; microphone; clipboard-read; clipboard-write;\" frameborder=\"0\" allowfullscreen></iframe></div>"
            ]
          },
          "metadata": {}
        },
        {
          "output_type": "execute_result",
          "data": {
            "text/plain": []
          },
          "metadata": {},
          "execution_count": 5
        }
      ],
      "source": [
        "import pandas as pd\n",
        "from vaderSentiment.vaderSentiment import SentimentIntensityAnalyzer\n",
        "import matplotlib.pyplot as plt\n",
        "import gradio as gr\n",
        "\n",
        "# Read the Excel file into a pandas DataFrame\n",
        "df = pd.read_excel('/content/tweets_by_topics_110_final.xlsx', sheet_name=None)\n",
        "\n",
        "# Read the CSV file into a pandas DataFrame\n",
        "df_topics = pd.read_csv('/content/topic_name_110_Final.csv')\n",
        "\n",
        "# Get a list of all topics in the DataFrame\n",
        "topics = list(df_topics['Topic_Name'])\n",
        "\n",
        "# Function to perform sentiment analysis and generate bar chart\n",
        "def sentiment_analysis(topic):\n",
        "    sheet_data = df[f'Topic_{topics.index(topic)}']\n",
        "    text_column = sheet_data['text']\n",
        "    analyzer = SentimentIntensityAnalyzer()\n",
        "    sentiment_scores = text_column.apply(lambda x: analyzer.polarity_scores(x)['compound'])\n",
        "    positive_count = len([score for score in sentiment_scores if score > 0])\n",
        "    negative_count = len([score for score in sentiment_scores if score < 0])\n",
        "    neutral_count = len([score for score in sentiment_scores if score == 0])\n",
        "\n",
        "    # Plot bar chart\n",
        "    plt.figure(figsize=(10, 6))\n",
        "    bar_positions = [1, 2, 3]\n",
        "    bar_heights = [positive_count, negative_count, neutral_count]\n",
        "    bar_labels = ['Positive', 'Negative', 'Neutral']\n",
        "    bar_colors = ['green', 'red', 'blue']\n",
        "    plt.bar(bar_positions, bar_heights, tick_label=bar_labels, color=bar_colors)\n",
        "    for i, height in enumerate(bar_heights):\n",
        "        plt.text(bar_positions[i], height, str(height), ha='center', va='bottom')\n",
        "    plt.xlabel('Sentiment')\n",
        "    plt.ylabel('Tweet Count')\n",
        "    plt.title(f'Sentiment Analysis - {topic}')\n",
        "\n",
        "    # Save the plot as an image file\n",
        "    image_path = \"sentiment_plot.png\"\n",
        "    plt.savefig(image_path)\n",
        "    plt.close()\n",
        "\n",
        "    return image_path\n",
        "\n",
        "# Create Gradio interface\n",
        "iface = gr.Interface(fn=sentiment_analysis, inputs=[gr.Dropdown(topics)], outputs=\"image\")\n",
        "iface.launch()\n",
        "\n"
      ]
    },
    {
      "cell_type": "markdown",
      "source": [
        "## **Topic-Name ----> Output (image, list_of_tweets)**"
      ],
      "metadata": {
        "id": "fCRlPNUgcJbO"
      }
    },
    {
      "cell_type": "code",
      "source": [
        "import pandas as pd\n",
        "from vaderSentiment.vaderSentiment import SentimentIntensityAnalyzer\n",
        "import matplotlib.pyplot as plt\n",
        "import gradio as gr\n",
        "\n",
        "# Read the Excel file into a pandas DataFrame\n",
        "df = pd.read_excel('/content/tweets_by_topics_110_final.xlsx', sheet_name=None)\n",
        "\n",
        "# Read the CSV file into a pandas DataFrame\n",
        "df_topics = pd.read_csv('/content/topic_name_110_Final.csv')\n",
        "\n",
        "# Get a list of all topics in the DataFrame\n",
        "topics = list(df_topics['Topic_Name'])\n",
        "\n",
        "# Function to perform sentiment analysis and generate bar chart\n",
        "def sentiment_analysis(topic):\n",
        "    sheet_data = df[f'Topic_{topics.index(topic)}']\n",
        "    text_column = sheet_data['text']\n",
        "    analyzer = SentimentIntensityAnalyzer()\n",
        "    sentiment_scores = text_column.apply(lambda x: analyzer.polarity_scores(x)['compound'])\n",
        "    positive_count = len([score for score in sentiment_scores if score > 0])\n",
        "    negative_count = len([score for score in sentiment_scores if score < 0])\n",
        "    neutral_count = len([score for score in sentiment_scores if score == 0])\n",
        "\n",
        "    # Get the list of tweets\n",
        "    tweets = list(sheet_data['text'])\n",
        "\n",
        "    # Plot bar chart\n",
        "    plt.figure(figsize=(10, 6))\n",
        "    bar_positions = [1, 2, 3]\n",
        "    bar_heights = [positive_count, negative_count, neutral_count]\n",
        "    bar_labels = ['Positive', 'Negative', 'Neutral']\n",
        "    bar_colors = ['green', 'red', 'blue']\n",
        "    plt.bar(bar_positions, bar_heights, tick_label=bar_labels, color=bar_colors)\n",
        "    for i, height in enumerate(bar_heights):\n",
        "        plt.text(bar_positions[i], height, str(height), ha='center', va='bottom')\n",
        "    plt.xlabel('Sentiment')\n",
        "    plt.ylabel('Tweet Count')\n",
        "    plt.title(f'Sentiment Analysis - {topic}')\n",
        "\n",
        "    # Display the list of tweets\n",
        "    tweet_output = '<ul>'\n",
        "    for tweet in tweets:\n",
        "        tweet_output += f'<li>{tweet}</li>'\n",
        "    tweet_output += '</ul>'\n",
        "\n",
        "    # Save the plot as an image file\n",
        "    image_path = \"sentiment_plot.png\"\n",
        "    plt.savefig(image_path)\n",
        "    plt.close()\n",
        "\n",
        "    return [image_path, tweet_output]\n",
        "\n",
        "# Create Gradio interface\n",
        "iface = gr.Interface(fn=sentiment_analysis, inputs=[gr.Dropdown(topics)], outputs=[gr.Image(), gr.HTML()])\n",
        "iface.launch()\n"
      ],
      "metadata": {
        "colab": {
          "base_uri": "https://localhost:8080/",
          "height": 645
        },
        "id": "lHHObn2jbJky",
        "outputId": "6c354e56-5967-49db-8ac3-9a8778bc3ea2"
      },
      "execution_count": 11,
      "outputs": [
        {
          "output_type": "stream",
          "name": "stdout",
          "text": [
            "Setting queue=True in a Colab notebook requires sharing enabled. Setting `share=True` (you can turn this off by setting `share=False` in `launch()` explicitly).\n",
            "\n",
            "Colab notebook detected. To show errors in colab notebook, set debug=True in launch()\n",
            "Running on public URL: https://96150e54556d2fe265.gradio.live\n",
            "\n",
            "This share link expires in 72 hours. For free permanent hosting and GPU upgrades, run `gradio deploy` from Terminal to deploy to Spaces (https://huggingface.co/spaces)\n"
          ]
        },
        {
          "output_type": "display_data",
          "data": {
            "text/plain": [
              "<IPython.core.display.HTML object>"
            ],
            "text/html": [
              "<div><iframe src=\"https://96150e54556d2fe265.gradio.live\" width=\"100%\" height=\"500\" allow=\"autoplay; camera; microphone; clipboard-read; clipboard-write;\" frameborder=\"0\" allowfullscreen></iframe></div>"
            ]
          },
          "metadata": {}
        },
        {
          "output_type": "execute_result",
          "data": {
            "text/plain": []
          },
          "metadata": {},
          "execution_count": 11
        }
      ]
    },
    {
      "cell_type": "markdown",
      "source": [],
      "metadata": {
        "id": "zfRqE-GZcHPX"
      }
    },
    {
      "cell_type": "code",
      "source": [
        "import pandas as pd\n",
        "from vaderSentiment.vaderSentiment import SentimentIntensityAnalyzer\n",
        "import matplotlib.pyplot as plt\n",
        "import gradio as gr\n",
        "\n",
        "# Read the Excel file into a pandas DataFrame\n",
        "df = pd.read_excel('/content/tweets_by_topics_110.xlsx', sheet_name=None)\n",
        "\n",
        "# Read the CSV files into pandas DataFrames\n",
        "df_topics = pd.read_csv('/content/topics_name_110.csv')\n",
        "df_clusters = pd.read_csv('/content/cluster_topics_Pediatric_110_Labelled.csv')\n",
        "\n",
        "# Get lists of topics and clusters from the DataFrames\n",
        "topics = list(df_topics['Topic_Name'])\n",
        "clusters = list(df_clusters.columns)\n",
        "\n",
        "# Function to perform sentiment analysis and generate bar chart\n",
        "def sentiment_analysis(cluster, topic):\n",
        "    topic_name = df_clusters[cluster][0]  # Get the topic name based on the selected cluster\n",
        "    sheet_data = df[f'Topic_{topics.index(topic_name)}']\n",
        "    text_column = sheet_data['text']\n",
        "    analyzer = SentimentIntensityAnalyzer()\n",
        "    sentiment_scores = text_column.apply(lambda x: analyzer.polarity_scores(x)['compound'])\n",
        "    positive_count = len([score for score in sentiment_scores if score > 0])\n",
        "    negative_count = len([score for score in sentiment_scores if score < 0])\n",
        "    neutral_count = len([score for score in sentiment_scores if score == 0])\n",
        "\n",
        "    # Plot bar chart\n",
        "    plt.figure(figsize=(10, 6))\n",
        "    bar_positions = [1, 2, 3]\n",
        "    bar_heights = [positive_count, negative_count, neutral_count]\n",
        "    bar_labels = ['Positive', 'Negative', 'Neutral']\n",
        "    bar_colors = ['green', 'red', 'blue']\n",
        "    plt.bar(bar_positions, bar_heights, tick_label=bar_labels, color=bar_colors)\n",
        "    for i, height in enumerate(bar_heights):\n",
        "        plt.text(bar_positions[i], height, str(height), ha='center', va='bottom')\n",
        "    plt.xlabel('Sentiment')\n",
        "    plt.ylabel('Tweet Count')\n",
        "    plt.title(f'Sentiment Analysis - {topic}')\n",
        "\n",
        "    # Save the plot as an image file\n",
        "    image_path = \"sentiment_plot.png\"\n",
        "    plt.savefig(image_path)\n",
        "    plt.close()\n",
        "\n",
        "    return image_path\n",
        "\n",
        "# Create Gradio interface\n",
        "iface = gr.Interface(fn=sentiment_analysis, inputs=[gr.Dropdown(clusters), gr.Dropdown(topics)], outputs=\"image\")\n",
        "iface.launch()\n"
      ],
      "metadata": {
        "colab": {
          "base_uri": "https://localhost:8080/",
          "height": 645
        },
        "id": "ZNBLdUoPf62l",
        "outputId": "0c018399-71a3-4cad-96b1-74bda4dc6de5"
      },
      "execution_count": null,
      "outputs": [
        {
          "output_type": "stream",
          "name": "stdout",
          "text": [
            "Setting queue=True in a Colab notebook requires sharing enabled. Setting `share=True` (you can turn this off by setting `share=False` in `launch()` explicitly).\n",
            "\n",
            "Colab notebook detected. To show errors in colab notebook, set debug=True in launch()\n",
            "Running on public URL: https://942f93883d845903b8.gradio.live\n",
            "\n",
            "This share link expires in 72 hours. For free permanent hosting and GPU upgrades, run `gradio deploy` from Terminal to deploy to Spaces (https://huggingface.co/spaces)\n"
          ]
        },
        {
          "output_type": "display_data",
          "data": {
            "text/plain": [
              "<IPython.core.display.HTML object>"
            ],
            "text/html": [
              "<div><iframe src=\"https://942f93883d845903b8.gradio.live\" width=\"100%\" height=\"500\" allow=\"autoplay; camera; microphone; clipboard-read; clipboard-write;\" frameborder=\"0\" allowfullscreen></iframe></div>"
            ]
          },
          "metadata": {}
        },
        {
          "output_type": "execute_result",
          "data": {
            "text/plain": []
          },
          "metadata": {},
          "execution_count": 6
        }
      ]
    },
    {
      "cell_type": "code",
      "source": [
        "import gradio as gr\n",
        "import pandas as pd\n",
        "\n",
        "# Load the CSV file into a Pandas dataframe\n",
        "df = pd.read_csv(\"/content/cluster_topics_Pediatric_110_Final_Labelled.csv\")\n",
        "\n",
        "\n",
        "# Create a dictionary to store the topic names for each cluster label\n",
        "topics_by_cluster = {}\n",
        "for i in range(0, len(df.columns)):\n",
        "    cluster_label = df.columns[i]\n",
        "    if cluster_label not in topics_by_cluster:\n",
        "        topics_by_cluster[cluster_label] = []\n",
        "    for j in range(len(df)):\n",
        "        topic_name = df.iloc[j, i]\n",
        "        if pd.isna(topic_name):\n",
        "            break\n",
        "        if topic_name not in topics_by_cluster[cluster_label]:\n",
        "            topics_by_cluster[cluster_label].append(topic_name)\n",
        "\n",
        "# Create a dropdown using Gradio\n",
        "cluster_dropdown = gr.Dropdown(choices=list(topics_by_cluster.keys()), label=\"Cluster Label\")\n",
        "\n",
        "# Define a function to display the assigned topic names for a selected cluster label\n",
        "def update_topics(cluster_label):\n",
        "    assigned_topics = get_topics(cluster_label)\n",
        "    if len(assigned_topics) == 0:\n",
        "        topic_string = \"No topics assigned to this cluster label.\"\n",
        "    else:\n",
        "        topic_string = \"\\n\".join(assigned_topics)\n",
        "    return topic_string\n",
        "\n",
        "# Define a function to return the assigned topic names for a given cluster label\n",
        "def get_topics(cluster_label):\n",
        "    if cluster_label in topics_by_cluster:\n",
        "        return topics_by_cluster[cluster_label]\n",
        "    else:\n",
        "        return []\n",
        "\n",
        "# Update the assigned topic names when the cluster dropdown value changes\n",
        "gr.Interface(update_topics, cluster_dropdown, \"text\").launch()"
      ],
      "metadata": {
        "colab": {
          "base_uri": "https://localhost:8080/",
          "height": 645
        },
        "id": "_cvBg7fK7l_b",
        "outputId": "6f3a9a0b-70ed-446c-b688-96a7898c7e23"
      },
      "execution_count": 6,
      "outputs": [
        {
          "output_type": "stream",
          "name": "stdout",
          "text": [
            "Setting queue=True in a Colab notebook requires sharing enabled. Setting `share=True` (you can turn this off by setting `share=False` in `launch()` explicitly).\n",
            "\n",
            "Colab notebook detected. To show errors in colab notebook, set debug=True in launch()\n",
            "Running on public URL: https://2602e59758b1a6be7d.gradio.live\n",
            "\n",
            "This share link expires in 72 hours. For free permanent hosting and GPU upgrades, run `gradio deploy` from Terminal to deploy to Spaces (https://huggingface.co/spaces)\n"
          ]
        },
        {
          "output_type": "display_data",
          "data": {
            "text/plain": [
              "<IPython.core.display.HTML object>"
            ],
            "text/html": [
              "<div><iframe src=\"https://2602e59758b1a6be7d.gradio.live\" width=\"100%\" height=\"500\" allow=\"autoplay; camera; microphone; clipboard-read; clipboard-write;\" frameborder=\"0\" allowfullscreen></iframe></div>"
            ]
          },
          "metadata": {}
        },
        {
          "output_type": "execute_result",
          "data": {
            "text/plain": []
          },
          "metadata": {},
          "execution_count": 6
        }
      ]
    },
    {
      "cell_type": "markdown",
      "source": [
        "Apologies for the confusion. You are correct that Gradio does not currently provide a built-in mechanism to dynamically update dropdown choices based on the selection of another dropdown.\n",
        "\n",
        "To work around this limitation, you can create a custom HTML/JavaScript interface using the gradio.Interface.layout attribute. Here's an example:"
      ],
      "metadata": {
        "id": "1XOIz9P4-_Qw"
      }
    },
    {
      "cell_type": "markdown",
      "source": [
        "## MY Final Code"
      ],
      "metadata": {
        "id": "z__u_sE6Fa_r"
      }
    },
    {
      "cell_type": "code",
      "source": [
        "import pandas as pd\n",
        "from vaderSentiment.vaderSentiment import SentimentIntensityAnalyzer\n",
        "import matplotlib.pyplot as plt\n",
        "import gradio as gr\n",
        "\n",
        "# Read the CSV file containing the cluster information\n",
        "cluster_info = pd.read_csv(\"/content/cluster_topics_Pediatric_110_Final_Labelled.csv\", header=None)\n",
        "cluster_labels = cluster_info.iloc[0, :].tolist()\n",
        "cluster_info = cluster_info.iloc[1:, :]\n",
        "\n",
        "# Read the final topic names from the CSV file and drop rows with NaN values\n",
        "final_topic_names = pd.read_csv(\"/content/topic_name_110_Final.csv\").dropna()\n",
        "\n",
        "# Read the Excel sheet with tweets for each topic\n",
        "tweets_by_topic = pd.read_excel(\"/content/tweets_by_topics_110_final.xlsx\", sheet_name=None)\n",
        "\n",
        "# Create dropdown menus for cluster and topic selection\n",
        "cluster_dropdown = widgets.Dropdown(options=cluster_labels, description=\"Select Cluster\")\n",
        "topic_dropdown = widgets.Dropdown(description=\"Select Topic\")\n",
        "\n",
        "def update_topic_options(change):\n",
        "    selected_cluster = change.new\n",
        "    # Get the column index of the selected cluster\n",
        "    cluster_index = cluster_labels.index(selected_cluster)\n",
        "    # Get the topic names for the selected cluster\n",
        "    topics = cluster_info.iloc[:, cluster_index].dropna().tolist()\n",
        "    topic_dropdown.options = topics\n",
        "\n",
        "cluster_dropdown.observe(update_topic_options, 'value')\n",
        "\n",
        "output = widgets.Output()\n",
        "\n",
        "def on_button_clicked(b):\n",
        "    with output:\n",
        "        output.clear_output()\n",
        "        selected_cluster = cluster_dropdown.value\n",
        "        selected_topic = topic_dropdown.value\n",
        "\n",
        "        # Find the topic name in the final topic names CSV\n",
        "        topic_index = final_topic_names[final_topic_names[\"Topic_Name\"] == selected_topic].index[0]\n",
        "\n",
        "        # Get the corresponding sheet name\n",
        "        sheet_name = f\"Topic_{topic_index}\"\n",
        "\n",
        "        # Get the tweets for the selected topic from the Excel sheet\n",
        "        tweets = tweets_by_topic[sheet_name]\n",
        "\n",
        "        # Perform sentiment analysis on the tweets\n",
        "        analyzer = SentimentIntensityAnalyzer()\n",
        "        sentiment_scores = tweets[\"text\"].apply(lambda x: analyzer.polarity_scores(x)['compound'])\n",
        "\n",
        "        # Count the sentiments\n",
        "        positive_count = len([score for score in sentiment_scores if score > 0])\n",
        "        negative_count = len([score for score in sentiment_scores if score < 0])\n",
        "        neutral_count = len([score for score in sentiment_scores if score == 0])\n",
        "\n",
        "        # Plot the bar chart\n",
        "        plt.figure(figsize=(5, 3))\n",
        "        bar_positions = [1, 2, 3]\n",
        "        bar_heights = [positive_count, negative_count, neutral_count]\n",
        "        bar_labels = ['Positive', 'Negative', 'Neutral']\n",
        "        bar_colors = ['green', 'red', 'blue']\n",
        "        plt.bar(bar_positions, bar_heights, tick_label=bar_labels, color=bar_colors)\n",
        "        for i, height in enumerate(bar_heights):\n",
        "            plt.text(bar_positions[i], height, str(height), ha='center', va='bottom')\n",
        "        plt.xlabel('Sentiment')\n",
        "        plt.ylabel('Tweet Count')\n",
        "        plt.title(f'Sentiment Analysis - {selected_cluster} - {selected_topic}')\n",
        "\n",
        "        # Display the plot\n",
        "        plt.show()\n",
        "\n",
        "button = widgets.Button(description=\"Submit\")\n",
        "button.on_click(on_button_clicked)\n",
        "\n",
        "display(cluster_dropdown)\n",
        "display(topic_dropdown)\n",
        "display(button)\n",
        "display(output)\n"
      ],
      "metadata": {
        "colab": {
          "base_uri": "https://localhost:8080/",
          "height": 427,
          "referenced_widgets": [
            "ab240f7aea434841b31379017da052ff",
            "9e44035c68064d5db9b8e0f5176f4aad",
            "637ff7c835ce4cc3ab048e4030745a88",
            "12687a5453124a1fbb8ef6be7763ec83",
            "99f24031649c43ff9aafe94c92171eeb",
            "5372bb047c004f629b6f5ed14e7dcd49",
            "7c04fc13ae2b4cb689349acd509155e0",
            "017d1eb618bb4cd6925a5099f2e2472c",
            "d3385187d47f4537844e4cb9e615f416",
            "f31baad3c7024558bf3aa977b248783c",
            "790cefdbe665470f943d341340b90ba9"
          ]
        },
        "id": "Z1tuWBrlFN-Z",
        "outputId": "0e011c97-8ded-4231-cc53-35431b108af9"
      },
      "execution_count": null,
      "outputs": [
        {
          "output_type": "display_data",
          "data": {
            "text/plain": [
              "Dropdown(description='Select Cluster', options=('epidemiology', 'awareness_1', 'dummy1', 'dummy2', 'dummy3', '…"
            ],
            "application/vnd.jupyter.widget-view+json": {
              "version_major": 2,
              "version_minor": 0,
              "model_id": "ab240f7aea434841b31379017da052ff"
            }
          },
          "metadata": {}
        },
        {
          "output_type": "display_data",
          "data": {
            "text/plain": [
              "Dropdown(description='Select Topic', options=(), value=None)"
            ],
            "application/vnd.jupyter.widget-view+json": {
              "version_major": 2,
              "version_minor": 0,
              "model_id": "12687a5453124a1fbb8ef6be7763ec83"
            }
          },
          "metadata": {}
        },
        {
          "output_type": "display_data",
          "data": {
            "text/plain": [
              "Button(description='Submit', style=ButtonStyle())"
            ],
            "application/vnd.jupyter.widget-view+json": {
              "version_major": 2,
              "version_minor": 0,
              "model_id": "7c04fc13ae2b4cb689349acd509155e0"
            }
          },
          "metadata": {}
        },
        {
          "output_type": "display_data",
          "data": {
            "text/plain": [
              "Output()"
            ],
            "application/vnd.jupyter.widget-view+json": {
              "version_major": 2,
              "version_minor": 0,
              "model_id": "f31baad3c7024558bf3aa977b248783c"
            }
          },
          "metadata": {}
        }
      ]
    },
    {
      "cell_type": "code",
      "source": [
        "import ipywidgets as widgets"
      ],
      "metadata": {
        "id": "XKm4hrHg9kHe"
      },
      "execution_count": null,
      "outputs": []
    },
    {
      "cell_type": "markdown",
      "source": [
        "Apologies for the confusion. You are correct that Gradio doesn't provide a built-in mechanism to dynamically update dropdown options based on a selection."
      ],
      "metadata": {
        "id": "VxbjKV_caDd4"
      }
    },
    {
      "cell_type": "markdown",
      "source": [
        "It seems that Gradio may not be the best fit for dynamically updating dropdown options based on the selected cluster. In this case, using widgets or other interactive frameworks like Dash or Streamlit may be more suitable."
      ],
      "metadata": {
        "id": "fMdlVOeXau_d"
      }
    }
  ]
}